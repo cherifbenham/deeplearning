{
 "cells": [
  {
   "cell_type": "markdown",
   "metadata": {},
   "source": [
    "# Playground - Part II"
   ]
  },
  {
   "cell_type": "markdown",
   "metadata": {},
   "source": [
    "🎯 **Goal**: Get a better understanding of ***Neural Network hyperparameters***\n",
    "\n",
    "<hr>\n",
    "\n",
    "👉 Open the [Playground](https://playground.tensorflow.org/#activation=tanh&batchSize=10&dataset=circle&regDataset=reg-plane&learningRate=0.03&regularizationRate=0&noise=0&networkShape=3&seed=0.06711&showTestData=false&discretize=false&percTrainData=50&x=true&y=true&xTimesY=false&xSquared=false&ySquared=false&cosX=false&sinX=false&cosY=false&sinY=false&collectStats=false&problem=classification&initZero=false&hideText=false&regularization_hide=false&regularizationRate_hide=false) again to learn more about Neural Networks. \n",
    "\n",
    "❗️ Keep in mind that as the algorithm is stochastic, the results might differ from one run to the other. For this reason, do not hesitate to re-run the algorithms multiple times to analyse the behavior of your Neural Networks draw your conclusions accordingly.\n",
    "\n",
    "🕵🏻 Let's explore the different items we have seen during the lecture:\n",
    "- **Batch Size**\n",
    "- **Regularization**\n",
    "- **Learning Rate**"
   ]
  },
  {
   "cell_type": "markdown",
   "metadata": {},
   "source": [
    "## (1) The batch size"
   ]
  },
  {
   "cell_type": "markdown",
   "metadata": {},
   "source": [
    "❓ **Initial Question** ❓ Select the `circle dataset` (Classification). \n",
    "\n",
    "* Build a model with: \n",
    "    * one hidden layer with 3 neurons,\n",
    "    * a _learning rate_ equal to 0.03, \n",
    "    * and the _tanh_ activation function\n",
    "\n",
    "* Do not add any noise (=0).\n",
    "\n",
    "* Select a batch size of 30\n",
    "\n",
    "***Look at the convergence of the algorithm. Does it seem slow or fast?***"
   ]
  },
  {
   "cell_type": "markdown",
   "metadata": {},
   "source": [
    "> It requires 200 epochs to reach: a good train loss / test loss\n",
    "> after that, it does not improve that much and the train loss seems to stabilize around 0.1"
   ]
  },
  {
   "cell_type": "markdown",
   "metadata": {},
   "source": [
    "❓ **Question: What is happening with a batch size of 1** ❓ \n",
    "\n",
    "Now, run this neural network on the same dataset but... \n",
    "\n",
    "* with a batch-size of 1.\n",
    "* Make sure to run at least 150 epochs. \n",
    "\n",
    "***What do you notice on the train and test loss? What is the reason of this instability?***"
   ]
  },
  {
   "cell_type": "markdown",
   "metadata": {},
   "source": [
    "> We have a stochastic process that seems to be unstable locally. This is normal: since the batch size is 1, the process is stochastic by definition"
   ]
  },
  {
   "cell_type": "markdown",
   "metadata": {},
   "source": [
    "❓ **Question/Observation** ❓ \n",
    "\n",
    "Now, you can see the effect of the _batch_size_ by reading the values of the train loss and test loss: pause the iterations and run it step by step (iteration per iteration) using to the `\"Step\"` button (at the right side of the play/stop button)."
   ]
  },
  {
   "cell_type": "markdown",
   "metadata": {},
   "source": [
    "> <i>Answer here</i>"
   ]
  },
  {
   "cell_type": "markdown",
   "metadata": {},
   "source": [
    "## 2. Regularization"
   ]
  },
  {
   "cell_type": "markdown",
   "metadata": {},
   "source": [
    "❓ **Question about the lack of generalization** ❓ \n",
    "\n",
    "To observe once again the **lack of generalization**:\n",
    "* Select the `\"eXclusive OR\"(XOR)` dataset, \n",
    "* with a noise of 50. \n",
    "* Add a second hidden layer with again 8 neurons. \n",
    "\n",
    "***Try to fit your model once again... what do you expect ?***"
   ]
  },
  {
   "cell_type": "markdown",
   "metadata": {},
   "source": [
    "> Validation loss seems go up when the n_epochs goes up\n",
    "> Training loss seems to stabilize\n",
    "> This is typically an overfitting phenomenon where the training listens too much to noise"
   ]
  },
  {
   "cell_type": "markdown",
   "metadata": {},
   "source": [
    "❗️ With a smaller batch size, your model will end up overfitting faster... ❗️\n",
    "\n",
    "👉 Let's keep ***`batch size = 1`*** though for the next question and try to understand how to prevent this overfitting phenomeon using the strategy of `regularization`."
   ]
  },
  {
   "cell_type": "markdown",
   "metadata": {},
   "source": [
    "❓ **Question about regularization** ❓ \n",
    "\n",
    "Can we ***regularize*** our network to ***avoid overfitting***? \n",
    "\n",
    "* Keep the batch size to 1\n",
    "* Add a `L2-regularization`. \n",
    "* Increase the power of this L2-regularization until it smoothes out the predictions! \n",
    "Notice how the test loss doesn't increase anymore with the epochs"
   ]
  },
  {
   "cell_type": "markdown",
   "metadata": {},
   "source": [
    "> L2 regularization is generally used to avoid overfitting; we try to smooth the predictions to improve generalization"
   ]
  },
  {
   "cell_type": "markdown",
   "metadata": {},
   "source": [
    "❓ **Questions with the spiral dataset** ❓ \n",
    "\n",
    "<u>Configuration</u>:\n",
    "\n",
    "* Select the `spiral dataset`,\n",
    "* Remove regularization, \n",
    "* Increase the `ratio of training to test data` to 80%. \n",
    "\n",
    "<u>Neural Network</u>: 3 hidden layers with:\n",
    "* 8 neurons on the first layer, \n",
    "* 7 neurons on the second layer,\n",
    "* 6 neurons on the third layer. \n",
    "\n",
    "<u>Experiment</u>:\n",
    "\n",
    "* Run the algorithm with a batch size of 30. \n",
    "* Make sure to run it for at least 1500 epochs. \n",
    "* Then, compare it to the same run but with a batch size of 1. \n",
    "\n",
    "You can check what happens on the train loss and test loss step by step."
   ]
  },
  {
   "cell_type": "markdown",
   "metadata": {},
   "source": [
    "> <i>Add your comments here</i>"
   ]
  },
  {
   "cell_type": "markdown",
   "metadata": {},
   "source": [
    "## (3) The learning rate"
   ]
  },
  {
   "cell_type": "markdown",
   "metadata": {},
   "source": [
    "Go back to the <u>`circle dataset`</u>:\n",
    "* with no noise,\n",
    "* and a *ratio of training to test data* of 50%.\n",
    "* Use a batch size of 20. \n",
    "\n",
    "Use a <u>neural network</u> with:\n",
    "* one layer of 5 neurons,\n",
    "* no regularization, \n",
    "* and the tanh activation function\n",
    "\n",
    "❓ **Question about the learning rate** ❓ \n",
    "\n",
    "For each learning rate (from 0.0001 to 10), run the algorithm during 1000 epochs and report the values of the test loss in the list below. Then, plot the test loss with respect to the learning rates. \n",
    "\n",
    "❗️ <u>Warning</u> ❗️ When you change the learning rate, make sure to reinitialize the neural network (_circular arrow, left to the play/pause button_)."
   ]
  },
  {
   "cell_type": "code",
   "execution_count": 2,
   "metadata": {},
   "outputs": [
    {
     "data": {
      "text/plain": [
       "[<matplotlib.lines.Line2D at 0x7f42fe20ce20>]"
      ]
     },
     "execution_count": 2,
     "metadata": {},
     "output_type": "execute_result"
    },
    {
     "data": {
      "image/png": "[encoded data removed]",
      "text/plain": [
       "<Figure size 432x288 with 1 Axes>"
      ]
     },
     "metadata": {
      "needs_background": "light"
     },
     "output_type": "display_data"
    }
   ],
   "source": [
    "import matplotlib.pyplot as plt\n",
    "%matplotlib inline\n",
    "\n",
    "import numpy as np\n",
    "\n",
    "learning_rates = [0.0001, 0.001, 0.01, 0.1, 1, 10]\n",
    "test_loss = [0.517, 0.3, 0.02, 0.004, 0.001, 1]\n",
    "\n",
    "\n",
    "plt.plot(np.log(learning_rates), test_loss)"
   ]
  },
  {
   "cell_type": "markdown",
   "metadata": {},
   "source": [
    "❗️ <u>Warning</u> ❗️ Small and high learning rates both lead to a high test loss... but not for the same reasons !\n",
    "\n",
    "* Small Learning Rate helps a Neural Network converge in a similar fashion to a moderate learning rate but... way slower... i.e. more epochs would be needed!\n",
    "* Large Learning Rate makes the algorithm diverge completely.\n",
    "    - Try a learning rate $ \\alpha = 10 $ with 400 epochs, you should see of the values vary. This corresponds to the fact that the algorithms converge to *different local minima*\n",
    "\n"
   ]
  },
  {
   "cell_type": "markdown",
   "metadata": {},
   "source": [
    "🏁 Congratulations !\n",
    "\n",
    "💾 Do not forget to `git add/commit/push` your notebook...\n",
    "\n",
    "🚀 ... and move to the next challenge !"
   ]
  }
 ],
 "metadata": {
  "kernelspec": {
   "display_name": "Python 3 (ipykernel)",
   "language": "python",
   "name": "python3"
  },
  "language_info": {
   "codemirror_mode": {
    "name": "ipython",
    "version": 3
   },
   "file_extension": ".py",
   "mimetype": "text/x-python",
   "name": "python",
   "nbconvert_exporter": "python",
   "pygments_lexer": "ipython3",
   "version": "3.8.12"
  },
  "toc": {
   "base_numbering": 1,
   "nav_menu": {},
   "number_sections": true,
   "sideBar": true,
   "skip_h1_title": false,
   "title_cell": "Table of Contents",
   "title_sidebar": "Contents",
   "toc_cell": false,
   "toc_position": {},
   "toc_section_display": true,
   "toc_window_display": false
  }
 },
 "nbformat": 4,
 "nbformat_minor": 2
}
