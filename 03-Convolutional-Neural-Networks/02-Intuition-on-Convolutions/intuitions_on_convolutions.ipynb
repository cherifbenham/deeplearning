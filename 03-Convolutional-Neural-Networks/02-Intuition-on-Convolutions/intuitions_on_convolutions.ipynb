{
 "cells": [
  {
   "cell_type": "markdown",
   "metadata": {},
   "source": [
    "# Intuitions on Convolutions"
   ]
  },
  {
   "cell_type": "markdown",
   "metadata": {},
   "source": [
    "Let's build our intuition about these **`convolution operations`**.\n",
    "\n",
    "🎯 <b><u>Goals</u></b>\n",
    "- **Compute convolution operations**\n",
    "- **Visualize**\n",
    "    - convolution kernels\n",
    "    - the effects of a convolution kernel applied on images\n",
    "\n",
    "<hr>\n",
    "\n",
    "🖼 <b><u>Convolutional Neural Networks are Neural Networks specifically designed to work on images</u></b>. \n",
    "\n",
    "This is made possible thanks to **convolutions**.\n",
    "\n",
    "These specific mathematical operations apply a **`kernel`** to an input image and create an output representation. The name of this **`output`** can change depending on the community. Here, let's talk about the output as the **`output of a layer`**, as in standard Neural Net models. But for Convolutional Neural Networks, it can also be called :\n",
    "* a **`\"convoluted representation/feature\"`**,\n",
    "* or a **`\"convolution\"`**,\n",
    "* or also an **`\"activation\"`** (as it corresponds to the activation of a given layer).\n",
    "\n",
    "<img src=\"convolution.png\" width=\"300\">\n",
    "\n",
    "---\n",
    "\n",
    "❗️ <b><u>Remarks</u></b> ❗️\n",
    "\n",
    "* It is important to understand that **the same kernel, i.e. the same weights, are applied to different zones of the images**. \n",
    "\n",
    "* This is completely different from Dense Neural Networks that we've been working with during the last two chapters:\n",
    "    * In `Dense/\"Fully Connected\" Neural Network`, each weight of each neuron is related to only one input coordinate (which in this case would be each pixel).\n",
    "    * In a `Convolution Neural Network`, the weights of a kernel are not applied to only one feature input, i.e. one pixel, but to different pixels, \"step by step\"!\n",
    "\n",
    "👉 You can think of each kernel (or each filter in the case of colored images) as a **`magnifying glass`** through which you see the image. Similarly to your eyes, kernels cannot capture everything in a picture at once, but they ***scan different parts of a picture to understand the whole picture that is being analyzed***.\n",
    "\n",
    "🎬 So let's have a closer look at `convolution operations`, and their impact in `Convolutional Neural Networks`."
   ]
  },
  {
   "cell_type": "markdown",
   "metadata": {},
   "source": [
    "## (0) The dataset"
   ]
  },
  {
   "cell_type": "markdown",
   "metadata": {},
   "source": [
    "❓ First use the following function `load_data` to... load the data ❓\n",
    "\n",
    "* Do not change anything in the function!\n",
    "* Restrict from any desire to change the shapes or types of the outputs! This will have an impact on further questions."
   ]
  },
  {
   "cell_type": "code",
   "execution_count": 1,
   "metadata": {},
   "outputs": [],
   "source": [
    "import os\n",
    "import numpy as np\n",
    "import pandas as pd\n",
    "\n",
    "from matplotlib.pyplot import imread\n",
    "\n",
    "import matplotlib.pyplot as plt\n",
    "%matplotlib inline\n",
    "\n",
    "def load_data(path):\n",
    "    nb_circles = 100\n",
    "    nb_triangles = 100\n",
    "    \n",
    "    X, y = [], []\n",
    "    \n",
    "    for i in range(nb_circles):\n",
    "        c_path = os.path.join(path, 'circles', f'circle_{i}.png')\n",
    "        X.append(imread(c_path)[:, :, :1])\n",
    "        y.append(0)\n",
    "    \n",
    "    for i in range(nb_triangles):\n",
    "        t_path = os.path.join(path, 'triangles', f'triangle_{i}.png')\n",
    "        X.append(imread(t_path)[:, :, :1])\n",
    "        y.append(1)\n",
    "        \n",
    "    c = list(zip(X, y))\n",
    "    np.random.shuffle(c)\n",
    "    X, y = zip(*c)\n",
    "        \n",
    "    return np.array(X), np.array(y)\n",
    "        \n",
    "X, y = load_data(\"data\")\n",
    "# Replace data by \"https://wagon-public-datasets.s3.amazonaws.com/deep-learning-circles-triangles/\" \n",
    "# if you are on a server"
   ]
  },
  {
   "cell_type": "markdown",
   "metadata": {},
   "source": [
    "❓ **Question about the shape** ❓\n",
    "\n",
    "* How many images do we have?\n",
    "* What are their dimensions? \n",
    "* Can you comment on the number of channels? "
   ]
  },
  {
   "cell_type": "markdown",
   "metadata": {},
   "source": [
    "<details>\n",
    "    <summary><i>About the number of channels:</i></summary>\n",
    "   \n",
    "Actually, we have already talked about this during the `MNIST challenge`.        \n",
    "        \n",
    "*  We need only one channel to compute the \"*blackness intensity*\" of a pixel with 0 corresponding to a black pixel and 1 corresponding to a white pixel. The last dimension corresponds to some kind of  \"Black to white channel\". \n",
    "        \n",
    "🎨 For colored images, the last dimension would be equal to 3 for `Red, Green, Blue (RGB)`\n",
    "\n",
    "👉 Have fun playing with the intensities of Red, Green and Blue <a href=\"https://www.w3schools.com/colors/colors_rgb.asp\">`here`</a>\n",
    "        \n",
    "        \n",
    "</details>        "
   ]
  },
  {
   "cell_type": "markdown",
   "metadata": {},
   "source": [
    "❓ **Question about the normalization** ❓\n",
    "\n",
    "Do these images need some normalization? "
   ]
  },
  {
   "cell_type": "code",
   "execution_count": null,
   "metadata": {
    "tags": [
     "challengify"
    ]
   },
   "outputs": [],
   "source": [
    "# YOUR CODE HERE"
   ]
  },
  {
   "cell_type": "markdown",
   "metadata": {},
   "source": [
    "❓ **Question** : Display some images with `plt.imshow` and their respective labels ❓\n",
    "\n",
    "_Note: the images are black and white, therefore use `cmap = gray` in the dedicated matplotlib function - otherwise, you will see irrelevant and weird colors..._"
   ]
  },
  {
   "cell_type": "code",
   "execution_count": 10,
   "metadata": {
    "tags": [
     "challengify"
    ]
   },
   "outputs": [
    {
     "data": {
      "text/plain": [
       "<matplotlib.image.AxesImage at 0x7f3c48104f40>"
      ]
     },
     "execution_count": 10,
     "metadata": {},
     "output_type": "execute_result"
    },
    {
     "data": {
      "image/png": "[encoded data removed]",
      "text/plain": [
       "<Figure size 432x288 with 1 Axes>"
      ]
     },
     "metadata": {
      "needs_background": "light"
     },
     "output_type": "display_data"
    }
   ],
   "source": [
    "plt.imshow(X[0], cmap=\"gray\")"
   ]
  },
  {
   "cell_type": "code",
   "execution_count": 38,
   "metadata": {},
   "outputs": [
    {
     "data": {
      "text/plain": [
       "(76, 78, 1)"
      ]
     },
     "execution_count": 38,
     "metadata": {},
     "output_type": "execute_result"
    }
   ],
   "source": [
    "X[5].shape"
   ]
  },
  {
   "cell_type": "markdown",
   "metadata": {},
   "source": [
    "❓ **Question: How many classes are we going to predict** ❓\n",
    "\n",
    "_This information will help you design the last layer of your Convolutional Network_"
   ]
  },
  {
   "cell_type": "code",
   "execution_count": 11,
   "metadata": {
    "tags": [
     "challengify"
    ]
   },
   "outputs": [
    {
     "data": {
      "text/plain": [
       "2"
      ]
     },
     "execution_count": 11,
     "metadata": {},
     "output_type": "execute_result"
    }
   ],
   "source": [
    "2"
   ]
  },
  {
   "cell_type": "markdown",
   "metadata": {},
   "source": [
    "## (1) Kernels"
   ]
  },
  {
   "cell_type": "markdown",
   "metadata": {},
   "source": [
    "The following function `compute_convolution` performs a **convolution operation** $ \\Leftrightarrow $ i.e. *it applies a kernel to an image*."
   ]
  },
  {
   "cell_type": "markdown",
   "metadata": {},
   "source": [
    "❗️ <b><u>Vocabulary warning</u></b> ❗️\n",
    "\n",
    "1. \"convolution\" sometimes refers to _one_ operation. It can also refer to the convolution operations repeated/slid on the entire image.\n",
    "\n",
    "\n",
    "2. For [historical reasons](https://towardsdatascience.com/convolution-vs-correlation-af868b6b4fb5), \"_convolution_\" in CNN is slightly different from \"_convolution_\" in Signal Preprocessing, but both are very close\n",
    "    - use [`scipy.ndimage.correlate`](https://docs.scipy.org/doc/scipy/reference/generated/scipy.ndimage.correlate.html#scipy.ndimage.correlate) for CNN convolution\n",
    "    \n",
    "    - instead of standard [`scipy.ndimage.convolve`](https://docs.scipy.org/doc/scipy/reference/generated/scipy.ndimage.convolve.html#scipy.ndimage.convolve) or [`numpy.convolve`](https://numpy.org/doc/stable/reference/generated/numpy.convolve.html)\n",
    "\n"
   ]
  },
  {
   "cell_type": "markdown",
   "metadata": {},
   "source": [
    "❓ **Question about the `compute_convolution` function** ❓\n",
    "\n",
    "Run it and try to understand the different steps of this function."
   ]
  },
  {
   "cell_type": "code",
   "execution_count": 14,
   "metadata": {},
   "outputs": [],
   "source": [
    "def compute_convolution(img, kernel):\n",
    "    # Parameters\n",
    "    kernel = np.array(kernel)\n",
    "    kernel_height, kernel_width = kernel.shape\n",
    "\n",
    "    img = np.squeeze(img) # Removes dimensions of size 1\n",
    "    img_height, img_width = img.shape\n",
    "    \n",
    "    array = []\n",
    "\n",
    "    for x in range(img_height - kernel_height + 1):\n",
    "        arr = []\n",
    "        \n",
    "        for y in range(img_width - kernel_width + 1):\n",
    "            \n",
    "            a = np.multiply(img[x: x + kernel_height, y: y + kernel_width], kernel)\n",
    "            arr.append(a.sum())\n",
    "            \n",
    "        array.append(arr)\n",
    "        \n",
    "    return array"
   ]
  },
  {
   "cell_type": "markdown",
   "metadata": {},
   "source": [
    "❓ **How does the `compute_convolution` function work in practice** ❓ \n",
    "\n",
    "\n",
    "* Choose any image from the input dataset\n",
    "* Apply the following kernel to it\n",
    "* Display both the input image and the output image. \n",
    "* Do you see any differences?"
   ]
  },
  {
   "cell_type": "code",
   "execution_count": 15,
   "metadata": {},
   "outputs": [],
   "source": [
    "identity_kernel = [\n",
    "    [0, 0, 0],\n",
    "    [0, 1, 0],\n",
    "    [0, 0, 0]\n",
    "]"
   ]
  },
  {
   "cell_type": "code",
   "execution_count": 21,
   "metadata": {
    "tags": [
     "challengify"
    ]
   },
   "outputs": [
    {
     "data": {
      "text/plain": [
       "<matplotlib.image.AxesImage at 0x7f3c3bb110a0>"
      ]
     },
     "execution_count": 21,
     "metadata": {},
     "output_type": "execute_result"
    },
    {
     "data": {
      "image/png": "[encoded data removed]",
      "text/plain": [
       "<Figure size 432x288 with 1 Axes>"
      ]
     },
     "metadata": {
      "needs_background": "light"
     },
     "output_type": "display_data"
    }
   ],
   "source": [
    "plt.imshow(compute_convolution(X[10],identity_kernel), cmap=\"gray\")"
   ]
  },
  {
   "cell_type": "code",
   "execution_count": 23,
   "metadata": {},
   "outputs": [
    {
     "data": {
      "text/plain": [
       "<matplotlib.image.AxesImage at 0x7f3c3baa2820>"
      ]
     },
     "execution_count": 23,
     "metadata": {},
     "output_type": "execute_result"
    },
    {
     "data": {
      "image/png": "[encoded data removed]",
      "text/plain": [
       "<Figure size 432x288 with 1 Axes>"
      ]
     },
     "metadata": {
      "needs_background": "light"
     },
     "output_type": "display_data"
    }
   ],
   "source": [
    "plt.imshow(X[10],cmap=\"gray\")"
   ]
  },
  {
   "cell_type": "markdown",
   "metadata": {},
   "source": [
    "<details>\n",
    "    <summary><i>Answer</i></summary>\n",
    "        \n",
    "🧑🏻‍🏫 The previous kernel corresponds to the **`identity_kernel`**, meaning that **the output is equal to the input**... \n",
    "    \n",
    "🕵🏻‍♂️ It basically did nothing to the input image. It you think about it thoroughly, that's not surprising. With this kernel, only the pixel scanned in the middle is kept and multiplied by one, the rest is multiplied by zero.        \n",
    "        \n",
    "</details>        "
   ]
  },
  {
   "cell_type": "markdown",
   "metadata": {},
   "source": [
    "🎁 We coded a function `plot_convolution` that plots the output image after applying a kernel to an input image.\n",
    "\n",
    "❓ **Question**: `plot_convolution` with the following `kernel_1` ❓\n",
    "\n",
    "Apply it once on an triangle and once on a circle."
   ]
  },
  {
   "cell_type": "code",
   "execution_count": 25,
   "metadata": {},
   "outputs": [],
   "source": [
    "def plot_convolution(img, kernel, activation=False):\n",
    "    ''' The following printing function ease the visualization'''\n",
    "    \n",
    "    img = np.squeeze(img)\n",
    "    output_img = compute_convolution(img, kernel)\n",
    "    if activation:\n",
    "        output_img = np.maximum(output_img, 0)\n",
    "    \n",
    "    plt.figure(figsize=(10, 5))\n",
    "    \n",
    "    ax1 = plt.subplot2grid((3,3),(0,0), rowspan=3)\n",
    "    ax1.imshow(img, cmap='gray')\n",
    "    ax1.title.set_text('Input image')\n",
    "    \n",
    "    ax2 = plt.subplot2grid((3,3),(1, 1))\n",
    "    ax2.imshow(kernel, cmap='gray')\n",
    "    ax2.title.set_text('Kernel')    \n",
    "    \n",
    "    ax3 = plt.subplot2grid((3,3),(0, 2), rowspan=3)\n",
    "    ax3.imshow(output_img, cmap='gray')\n",
    "    ax3.title.set_text('Output image')    \n",
    "\n",
    "    for ax in [ax1, ax2, ax3]:\n",
    "        ax.axes.get_xaxis().set_visible(False)\n",
    "        ax.axes.get_yaxis().set_visible(False)\n",
    "        \n",
    "    plt.show()"
   ]
  },
  {
   "cell_type": "code",
   "execution_count": 26,
   "metadata": {},
   "outputs": [],
   "source": [
    "kernel_1 = [\n",
    "    [1, 1, 1],\n",
    "    [0, 0, 0],\n",
    "    [-1, -1, -1]\n",
    "]"
   ]
  },
  {
   "cell_type": "code",
   "execution_count": 27,
   "metadata": {
    "tags": [
     "challengify"
    ]
   },
   "outputs": [
    {
     "data": {
      "image/png": "[encoded data removed]",
      "text/plain": [
       "<Figure size 720x360 with 3 Axes>"
      ]
     },
     "metadata": {
      "needs_background": "light"
     },
     "output_type": "display_data"
    }
   ],
   "source": [
    "plot_convolution(X[0], kernel_1)"
   ]
  },
  {
   "cell_type": "markdown",
   "metadata": {},
   "source": [
    "👆 Let's analyze what just happened:\n",
    "\n",
    "* White pixels correspond to high values and black pixels to low values.\n",
    "* In a Neural Network, in a Dense Layer or a Convolutional Layer, there is an activation function. \n",
    "    * *For example*, when the activation function is `relu`, you already know that it simply corresponds to setting the negative values to 0.\n",
    "\n",
    "---\n",
    "\n",
    "\n",
    "❓ **What is the impact of the activation function in a Convolutional Layer ?** ❓\n",
    "\n",
    "Re-run the previous function `plot_convolution` with `activation` set to `True` (in this case, the activation function _is_ the relu)."
   ]
  },
  {
   "cell_type": "code",
   "execution_count": 28,
   "metadata": {
    "tags": [
     "challengify"
    ]
   },
   "outputs": [
    {
     "data": {
      "image/png": "[encoded data removed]",
      "text/plain": [
       "<Figure size 720x360 with 3 Axes>"
      ]
     },
     "metadata": {
      "needs_background": "light"
     },
     "output_type": "display_data"
    }
   ],
   "source": [
    "plot_convolution(X[0], kernel_1, activation=True)"
   ]
  },
  {
   "cell_type": "markdown",
   "metadata": {},
   "source": [
    "👆 This kernel is actually highlighting the edges in a given direction. "
   ]
  },
  {
   "cell_type": "markdown",
   "metadata": {},
   "source": [
    "❓ **Play with different kernels...** ❓\n",
    "\n",
    "Try the following kernels to check the different edges they can detect."
   ]
  },
  {
   "cell_type": "code",
   "execution_count": 29,
   "metadata": {},
   "outputs": [],
   "source": [
    "kernel_2 = [\n",
    "    [-1, -1, -1],\n",
    "    [0, 0, 0],   \n",
    "    [1, 1, 1],\n",
    "]\n",
    "\n",
    "kernel_3 = [\n",
    "    [-1, 0, 1],\n",
    "    [-1, 0, 1],\n",
    "    [-1, 0, 1]\n",
    "]\n",
    "\n",
    "kernel_4 = [\n",
    "    [1, 0, -1],\n",
    "    [1, 0, -1],\n",
    "    [1, 0, -1]\n",
    "]"
   ]
  },
  {
   "cell_type": "code",
   "execution_count": 30,
   "metadata": {
    "tags": [
     "challengify"
    ]
   },
   "outputs": [
    {
     "data": {
      "image/png": "[encoded data removed]",
      "text/plain": [
       "<Figure size 720x360 with 3 Axes>"
      ]
     },
     "metadata": {
      "needs_background": "light"
     },
     "output_type": "display_data"
    }
   ],
   "source": [
    "plot_convolution(X[0], kernel_2, activation=True)"
   ]
  },
  {
   "cell_type": "markdown",
   "metadata": {},
   "source": [
    "❓ **What is the effect of the kernel size** ❓\n",
    "\n",
    "Try the _kernel_big_."
   ]
  },
  {
   "cell_type": "code",
   "execution_count": 31,
   "metadata": {},
   "outputs": [
    {
     "data": {
      "text/plain": [
       "array([[ 1.,  1.,  1.,  1.,  1.,  1.,  1.,  1.,  1.,  1.],\n",
       "       [ 1.,  1.,  1.,  1.,  1.,  1.,  1.,  1.,  1.,  1.],\n",
       "       [ 1.,  1.,  1.,  1.,  1.,  1.,  1.,  1.,  1.,  1.],\n",
       "       [ 0.,  0.,  0.,  0.,  0.,  0.,  0.,  0.,  0.,  0.],\n",
       "       [ 0.,  0.,  0.,  0.,  0.,  0.,  0.,  0.,  0.,  0.],\n",
       "       [ 0.,  0.,  0.,  0.,  0.,  0.,  0.,  0.,  0.,  0.],\n",
       "       [ 0.,  0.,  0.,  0.,  0.,  0.,  0.,  0.,  0.,  0.],\n",
       "       [-1., -1., -1., -1., -1., -1., -1., -1., -1., -1.],\n",
       "       [-1., -1., -1., -1., -1., -1., -1., -1., -1., -1.],\n",
       "       [-1., -1., -1., -1., -1., -1., -1., -1., -1., -1.]])"
      ]
     },
     "execution_count": 31,
     "metadata": {},
     "output_type": "execute_result"
    }
   ],
   "source": [
    "kernel_big = np.array([\n",
    "    np.ones((10,)),\n",
    "    np.ones((10,)),\n",
    "    np.ones((10,)),\n",
    "    np.zeros((10,)),\n",
    "    np.zeros((10,)),\n",
    "    np.zeros((10,)),\n",
    "    np.zeros((10,)),\n",
    "    np.ones((10,))*-1,\n",
    "    np.ones((10,))*-1,\n",
    "    np.ones((10,))*-1,\n",
    "])\n",
    "\n",
    "kernel_big"
   ]
  },
  {
   "cell_type": "code",
   "execution_count": 35,
   "metadata": {},
   "outputs": [
    {
     "data": {
      "image/png": "[encoded data removed]",
      "text/plain": [
       "<Figure size 720x360 with 3 Axes>"
      ]
     },
     "metadata": {
      "needs_background": "light"
     },
     "output_type": "display_data"
    }
   ],
   "source": [
    "plot_convolution(X[0], kernel_big, activation=False)"
   ]
  },
  {
   "cell_type": "markdown",
   "metadata": {},
   "source": [
    "❓ **Try another kernel**  ❓"
   ]
  },
  {
   "cell_type": "code",
   "execution_count": 36,
   "metadata": {},
   "outputs": [
    {
     "data": {
      "image/png": "[encoded data removed]",
      "text/plain": [
       "<Figure size 720x360 with 3 Axes>"
      ]
     },
     "metadata": {
      "needs_background": "light"
     },
     "output_type": "display_data"
    }
   ],
   "source": [
    "random_kernel = np.random.uniform(-10, 10, (5, 5))\n",
    "plot_convolution(X[0], random_kernel, activation=False)"
   ]
  },
  {
   "cell_type": "markdown",
   "metadata": {},
   "source": [
    "Now that you've got the idea of what a convolution operation does to an image, let's see how it goes with a \"real\" Convolutional Neural Network. ✅"
   ]
  },
  {
   "cell_type": "markdown",
   "metadata": {},
   "source": [
    "## (2) Convolutional Neural Network"
   ]
  },
  {
   "cell_type": "markdown",
   "metadata": {},
   "source": [
    "### (2.1) Architecture and training"
   ]
  },
  {
   "cell_type": "markdown",
   "metadata": {},
   "source": [
    "\n",
    "❓ **Question: Designing a CNN** ❓\n",
    "\n",
    "Write a Convolutional Network that has \n",
    "- a Convolutional Layer with 16 filters with $ (4, 4) $ kernels.\n",
    "- a Convolutional Layer with 32 filters with $ (3, 3) $ kernels.\n",
    "- a Convolutional Layer with 64 filters with $ (3, 3) $ kernels.\n",
    "- a Convolutional Layer with 64 filters with $ (2, 2) $ kernels.\n",
    "\n",
    "with:\n",
    "- A Max-Pooling Layer (with a $ (2, 2) $ pool-size) after each convolution.\n",
    "- A Hidden Dense Layer with the size of your choice, be reasonable:\n",
    "    - after the flattening part \n",
    "    - but before the last layer\n",
    "\n",
    "\n",
    "Also, make sure to compile your model with the appropriate parameters"
   ]
  },
  {
   "cell_type": "code",
   "execution_count": 62,
   "metadata": {},
   "outputs": [],
   "source": [
    "from tensorflow.keras import layers, models\n",
    "\n",
    "def initialize_model():\n",
    "    \n",
    "    model=models.Sequential()\n",
    "    \n",
    "    ### First Convolution & MaxPooling\n",
    "    model.add(layers.Conv2D(16,(4,4),input_shape=(76,78,1),activation=\"relu\",padding=\"same\"))\n",
    "    model.add(layers.MaxPool2D(pool_size=(2,2)))\n",
    "    \n",
    "    ### Second Convolution & MaxPooling\n",
    "    model.add(layers.Conv2D(32,(3,3), activation=\"relu\"))\n",
    "    model.add(layers.MaxPool2D(pool_size=(2,2)))\n",
    "    \n",
    "    ### Third Convolution & MaxPooling\n",
    "    model.add(layers.Conv2D(64,(3,3), activation=\"relu\"))\n",
    "    model.add(layers.MaxPool2D(pool_size=(2,2)))\n",
    "    \n",
    "    ### Fourth Convolution & MaxPooling\n",
    "    model.add(layers.Conv2D(64,(2,2), activation=\"relu\"))\n",
    "    model.add(layers.MaxPool2D(pool_size=(2,2)))\n",
    "    \n",
    "    ### Flattening\n",
    "    model.add(layers.Flatten())    \n",
    "    \n",
    "    ### One Fully Connected layer - \"Fully Connected\" is equivalent to saying \"Dense\"\n",
    "    model.add(layers.Dense(10, activation=\"relu\"))\n",
    "    \n",
    "    ### Last layer - Classification Layer with 10 outputs corresponding to 10 digits\n",
    "    model.add(layers.Dense(1, activation=\"sigmoid\"))\n",
    "    \n",
    "    ### Model compilation\n",
    "    model.compile(loss=\"binary_crossentropy\", optimizer=\"adam\", metrics=[\"accuracy\"])\n",
    "    \n",
    "    return model"
   ]
  },
  {
   "cell_type": "markdown",
   "metadata": {},
   "source": [
    "❓ **Question: Training the CNN** ❓\n",
    "\n",
    "* Fit the model. You should achieve a accuracy of *at least* 90%. \n",
    "\n",
    "    * When you reach such a high score, it may sound suspicious and you would probably ask yourself whether the model is overfitting or not... but let's ignore it for this challenge 😏"
   ]
  },
  {
   "cell_type": "code",
   "execution_count": 63,
   "metadata": {
    "tags": [
     "challengify"
    ]
   },
   "outputs": [
    {
     "name": "stdout",
     "output_type": "stream",
     "text": [
      "Epoch 1/5\n",
      "13/13 [==============================] - 1s 33ms/step - loss: 0.6941 - accuracy: 0.4850\n",
      "Epoch 2/5\n",
      "13/13 [==============================] - 0s 33ms/step - loss: 0.6603 - accuracy: 0.7050\n",
      "Epoch 3/5\n",
      "13/13 [==============================] - 0s 37ms/step - loss: 0.5312 - accuracy: 0.8250\n",
      "Epoch 4/5\n",
      "13/13 [==============================] - 0s 37ms/step - loss: 0.3886 - accuracy: 0.8350\n",
      "Epoch 5/5\n",
      "13/13 [==============================] - 1s 39ms/step - loss: 0.1852 - accuracy: 0.9550\n"
     ]
    }
   ],
   "source": [
    "model=initialize_model()\n",
    "history=model.fit(X,y,epochs=5, batch_size=16,verbose=1)"
   ]
  },
  {
   "cell_type": "markdown",
   "metadata": {},
   "source": [
    "🎁 We coded the `plot_loss_accuracy` for you.\n",
    "\n",
    "❓ **Question: does the CNN converge** ❓\n",
    "\n",
    "_Also, do you see any sign of overfitting?_"
   ]
  },
  {
   "cell_type": "code",
   "execution_count": 57,
   "metadata": {},
   "outputs": [],
   "source": [
    "def plot_loss_accuracy(history, title=None):\n",
    "    fig, ax = plt.subplots(1,2, figsize=(20,7))\n",
    "    \n",
    "    # --- LOSS --- \n",
    "    \n",
    "    ax[0].plot(history.history['loss'])\n",
    "    ax[0].plot(history.history['val_loss'])\n",
    "    ax[0].set_title('Model loss')\n",
    "    ax[0].set_ylabel('Loss')\n",
    "    ax[0].set_xlabel('Epoch')\n",
    "    ax[0].set_ylim((0,3))\n",
    "    ax[0].legend(['Train', 'Test'], loc='best')\n",
    "    ax[0].grid(axis=\"x\",linewidth=0.5)\n",
    "    ax[0].grid(axis=\"y\",linewidth=0.5)\n",
    "    \n",
    "    # --- ACCURACY\n",
    "    \n",
    "    ax[1].plot(history.history['accuracy'])\n",
    "    ax[1].plot(history.history['val_accuracy'])\n",
    "    ax[1].set_title('Model Accuracy')\n",
    "    ax[1].set_ylabel('Accuracy')\n",
    "    ax[1].set_xlabel('Epoch')\n",
    "    ax[1].legend(['Train', 'Test'], loc='best')\n",
    "    ax[1].set_ylim((0,1))\n",
    "    ax[1].grid(axis=\"x\",linewidth=0.5)\n",
    "    ax[1].grid(axis=\"y\",linewidth=0.5)\n",
    "    \n",
    "    if title:\n",
    "        fig.suptitle(title)"
   ]
  },
  {
   "cell_type": "code",
   "execution_count": 64,
   "metadata": {
    "tags": [
     "challengify"
    ]
   },
   "outputs": [
    {
     "data": {
      "text/plain": [
       "{'loss': [0.6941195130348206,\n",
       "  0.6603226661682129,\n",
       "  0.531183660030365,\n",
       "  0.38862743973731995,\n",
       "  0.18523448705673218],\n",
       " 'accuracy': [0.48500001430511475,\n",
       "  0.7049999833106995,\n",
       "  0.824999988079071,\n",
       "  0.8349999785423279,\n",
       "  0.9549999833106995]}"
      ]
     },
     "execution_count": 64,
     "metadata": {},
     "output_type": "execute_result"
    }
   ],
   "source": [
    "history.history"
   ]
  },
  {
   "cell_type": "markdown",
   "metadata": {},
   "source": [
    "### (2.2) Deeper understanding of the CNN"
   ]
  },
  {
   "cell_type": "markdown",
   "metadata": {},
   "source": [
    "🕵️‍♀️ With the following table, you will have a better overview of the different weights, kernels and filters involved in the CNN you've built earlier:\n",
    "\n",
    "| layer_number | convolution_layer | kernel_number | channel_number |\n",
    "|--------------|-------------------|---------------|----------------|\n",
    "| 0            | conv2D no 1       | 16            | 1              |\n",
    "| 2            | conv2D no 2       | 32            | 16             |\n",
    "| 4            | conv2D no 3       | 64            | 32             |\n",
    "| 8            | conv2D no 4       | 64            | 64             |"
   ]
  },
  {
   "cell_type": "markdown",
   "metadata": {},
   "source": [
    "#### (2.2.1) Kernels"
   ]
  },
  {
   "cell_type": "markdown",
   "metadata": {},
   "source": [
    "🔥 It is possible to **retrieve the values of all the kernels after training a CNN**. "
   ]
  },
  {
   "cell_type": "markdown",
   "metadata": {},
   "source": [
    "👩🏻‍🏫 For any Sequential Neural Network (Dense or Convolutional), you can:\n",
    "- print the **`.summary()`** to display the layers and the number of weights/parameters involved\n",
    "- access the different **`.layers`** of your model\n",
    "- access the different parameters **`.weights`** of these layer"
   ]
  },
  {
   "cell_type": "markdown",
   "metadata": {},
   "source": [
    "❓ **List the different layers of your CNN model** ❓"
   ]
  },
  {
   "cell_type": "code",
   "execution_count": 65,
   "metadata": {
    "tags": [
     "challengify"
    ]
   },
   "outputs": [
    {
     "data": {
      "text/plain": [
       "[<keras.layers.convolutional.Conv2D at 0x7f3bb030c8e0>,\n",
       " <keras.layers.pooling.MaxPooling2D at 0x7f3c3ba71340>,\n",
       " <keras.layers.convolutional.Conv2D at 0x7f3bc013adf0>,\n",
       " <keras.layers.pooling.MaxPooling2D at 0x7f3bb058c7c0>,\n",
       " <keras.layers.convolutional.Conv2D at 0x7f3bb061a610>,\n",
       " <keras.layers.pooling.MaxPooling2D at 0x7f3bb0626610>,\n",
       " <keras.layers.convolutional.Conv2D at 0x7f3bb0550e50>,\n",
       " <keras.layers.pooling.MaxPooling2D at 0x7f3bb0626d90>,\n",
       " <keras.layers.core.flatten.Flatten at 0x7f3bb06265b0>,\n",
       " <keras.layers.core.dense.Dense at 0x7f3bb0563820>,\n",
       " <keras.layers.core.dense.Dense at 0x7f3bb0563f70>]"
      ]
     },
     "execution_count": 65,
     "metadata": {},
     "output_type": "execute_result"
    }
   ],
   "source": [
    "model.layers"
   ]
  },
  {
   "cell_type": "code",
   "execution_count": 66,
   "metadata": {},
   "outputs": [
    {
     "data": {
      "text/plain": [
       "[<tf.Variable 'conv2d_28/kernel:0' shape=(4, 4, 1, 16) dtype=float32, numpy=\n",
       " array([[[[ 0.03036049,  0.00159157, -0.04245951, -0.09091918,\n",
       "           -0.01381274, -0.09776673, -0.10345729,  0.08207775,\n",
       "            0.04397139,  0.13542478, -0.05793039,  0.13881327,\n",
       "            0.11950406, -0.03809672,  0.0068494 ,  0.08093061]],\n",
       " \n",
       "         [[ 0.03667901,  0.15337074,  0.07619219, -0.00918346,\n",
       "            0.11789995,  0.04669798, -0.11332957,  0.02547829,\n",
       "            0.02861775, -0.07373734, -0.0256442 , -0.10279446,\n",
       "            0.04329503, -0.04739749,  0.02210667, -0.02728429]],\n",
       " \n",
       "         [[-0.12352459,  0.08772536,  0.02032039,  0.10899436,\n",
       "            0.15587342, -0.09228037,  0.11256351,  0.09993551,\n",
       "           -0.15784803, -0.08062273,  0.09597053, -0.14917894,\n",
       "           -0.06501981,  0.10478394,  0.03619386, -0.1185753 ]],\n",
       " \n",
       "         [[-0.0256918 ,  0.11793619, -0.03350081,  0.05407698,\n",
       "           -0.05889957,  0.11198251,  0.0415555 , -0.07855249,\n",
       "           -0.02828094, -0.07693201,  0.02374538,  0.00206282,\n",
       "            0.07265589, -0.00816012,  0.14592543,  0.08417802]]],\n",
       " \n",
       " \n",
       "        [[[-0.09461006,  0.15319854, -0.06053317,  0.062249  ,\n",
       "           -0.02820934, -0.11082931, -0.02341379, -0.0050995 ,\n",
       "           -0.00053275, -0.06632998,  0.07307161, -0.09992818,\n",
       "            0.14733902, -0.10572826,  0.12047655,  0.05557493]],\n",
       " \n",
       "         [[-0.13278738, -0.01758385,  0.09914364,  0.08646169,\n",
       "           -0.00102441, -0.00657427, -0.01946284, -0.08753465,\n",
       "            0.00616466,  0.01583379,  0.04313319, -0.1513264 ,\n",
       "            0.10074702,  0.03306801,  0.03915973, -0.10423942]],\n",
       " \n",
       "         [[-0.1412697 ,  0.11509813,  0.08649593,  0.16006598,\n",
       "           -0.13151565,  0.14705975, -0.10954501, -0.09534432,\n",
       "           -0.05797263, -0.05171946, -0.12065038, -0.0966517 ,\n",
       "           -0.08342003, -0.06320903,  0.04834422, -0.08323345]],\n",
       " \n",
       "         [[ 0.02750174, -0.02821407,  0.06695525, -0.03634281,\n",
       "            0.13819046, -0.04881902,  0.04179965,  0.03911815,\n",
       "           -0.11138047, -0.09882502,  0.09452732,  0.07730793,\n",
       "           -0.13347006,  0.09814214,  0.13199402,  0.0218957 ]]],\n",
       " \n",
       " \n",
       "        [[[ 0.04366953, -0.06937835, -0.02230364,  0.0589923 ,\n",
       "           -0.09764448, -0.15293227,  0.17833407,  0.0913709 ,\n",
       "            0.04970742, -0.11604705, -0.00832065,  0.00991763,\n",
       "            0.06649902,  0.12746869, -0.03092661,  0.13998704]],\n",
       " \n",
       "         [[ 0.14428891,  0.03247828, -0.0708577 , -0.0205476 ,\n",
       "            0.04848058,  0.14785096, -0.08430842, -0.06235952,\n",
       "           -0.04205078, -0.04266289, -0.11364689,  0.124106  ,\n",
       "            0.08223523, -0.06090782,  0.1290369 , -0.10238977]],\n",
       " \n",
       "         [[-0.07300751, -0.01503961,  0.1444374 ,  0.06223511,\n",
       "            0.07733515, -0.02476794, -0.16682696, -0.04692244,\n",
       "            0.06128306, -0.10014789,  0.00181131, -0.10069309,\n",
       "           -0.04697315,  0.09240956, -0.14939366,  0.01930015]],\n",
       " \n",
       "         [[ 0.14572027, -0.01990783,  0.06246283, -0.11902095,\n",
       "            0.00832373,  0.11733831, -0.1727338 ,  0.05940856,\n",
       "           -0.11335796,  0.16184403, -0.09402901, -0.12044086,\n",
       "            0.06837623,  0.07456695, -0.07486901, -0.06403127]]],\n",
       " \n",
       " \n",
       "        [[[-0.00667713,  0.02554474,  0.07078765, -0.01670347,\n",
       "           -0.05681403, -0.07246583,  0.058772  ,  0.0657094 ,\n",
       "           -0.01743879,  0.05592627, -0.10655294,  0.02012724,\n",
       "            0.14629668,  0.12269576,  0.03206476,  0.09235404]],\n",
       " \n",
       "         [[ 0.15038267, -0.10805881,  0.08902419, -0.1082693 ,\n",
       "           -0.06409821, -0.08283153,  0.14626737,  0.11074783,\n",
       "            0.06752721, -0.07318787,  0.10594945, -0.05918621,\n",
       "           -0.00342358, -0.00568309, -0.16182227, -0.1100201 ]],\n",
       " \n",
       "         [[-0.06467678, -0.00381271, -0.04696034,  0.01213297,\n",
       "           -0.03867681,  0.04717202,  0.13161351,  0.11982291,\n",
       "           -0.03977103,  0.14969255,  0.02566883,  0.01927832,\n",
       "            0.00196867, -0.05437979, -0.15083744,  0.17383495]],\n",
       " \n",
       "         [[ 0.1361621 , -0.11288007,  0.04246949,  0.08640066,\n",
       "           -0.12833242,  0.11869267, -0.09017631,  0.07993069,\n",
       "            0.02476821,  0.15853707,  0.00368562,  0.1235024 ,\n",
       "            0.03354458,  0.12846631, -0.15267672,  0.09179316]]]],\n",
       "       dtype=float32)>,\n",
       " <tf.Variable 'conv2d_28/bias:0' shape=(16,) dtype=float32, numpy=\n",
       " array([ 0.02257467, -0.00612845, -0.00238545, -0.00322489,  0.01717198,\n",
       "        -0.00231702,  0.02615773, -0.00211229,  0.01641669,  0.03259748,\n",
       "         0.02763378,  0.03186078,  0.0150335 , -0.00264272,  0.00281415,\n",
       "         0.00189275], dtype=float32)>,\n",
       " <tf.Variable 'conv2d_29/kernel:0' shape=(3, 3, 16, 32) dtype=float32, numpy=\n",
       " array([[[[ 5.13140783e-02,  4.50128131e-02,  1.18324801e-01, ...,\n",
       "            3.84432375e-02,  7.77501315e-02, -8.07346180e-02],\n",
       "          [-6.96576610e-02,  5.66171221e-02, -5.40177524e-02, ...,\n",
       "            3.00759133e-02, -3.58473286e-02,  3.19936424e-02],\n",
       "          [-7.16237724e-02, -2.40391959e-02, -1.98000623e-03, ...,\n",
       "           -1.41142448e-02,  8.61606970e-02,  6.32010326e-02],\n",
       "          ...,\n",
       "          [-4.44539525e-02, -1.09767117e-01, -6.80605695e-02, ...,\n",
       "            1.22242579e-02,  6.57675639e-02,  9.66600850e-02],\n",
       "          [ 1.73844881e-02,  1.09008141e-01, -4.40021008e-02, ...,\n",
       "           -1.06600836e-01, -5.07121496e-02, -2.05928646e-02],\n",
       "          [ 3.85121889e-02, -7.88914487e-02, -8.44923034e-03, ...,\n",
       "            4.85074185e-02,  1.01645119e-01, -3.66954915e-02]],\n",
       " \n",
       "         [[ 9.75278616e-02, -7.50026759e-03, -1.04665861e-01, ...,\n",
       "            1.28177345e-01, -4.34788801e-02, -4.27892730e-02],\n",
       "          [ 6.38477206e-02,  1.36085555e-01, -2.08332855e-02, ...,\n",
       "            9.59604234e-02,  9.81850475e-02,  1.45423740e-01],\n",
       "          [-6.55525401e-02,  1.05348162e-01, -6.17906190e-02, ...,\n",
       "            5.64624295e-02, -5.64483069e-02,  1.25611588e-01],\n",
       "          ...,\n",
       "          [-8.80454630e-02, -1.02275766e-01, -1.17471471e-01, ...,\n",
       "            5.29478006e-02,  4.07024771e-02, -3.84938233e-02],\n",
       "          [ 1.70451347e-02,  8.24775621e-02, -3.77732478e-02, ...,\n",
       "           -2.54158564e-02,  7.00964183e-02, -6.02489971e-02],\n",
       "          [-4.10299487e-02,  2.74732411e-02, -6.18223324e-02, ...,\n",
       "            9.39907134e-02,  2.86959764e-03,  1.15440655e-02]],\n",
       " \n",
       "         [[-3.97350490e-02,  9.85946357e-02, -1.12666950e-01, ...,\n",
       "           -1.92882703e-03, -5.25291488e-02,  5.61794490e-02],\n",
       "          [-7.79724941e-02,  4.92668152e-02,  1.18313365e-01, ...,\n",
       "            1.11113638e-01, -7.80023187e-02,  1.03540771e-01],\n",
       "          [-1.03902012e-01,  2.21944377e-02, -6.60586730e-02, ...,\n",
       "            8.86931866e-02,  5.05353585e-02,  7.33715817e-02],\n",
       "          ...,\n",
       "          [-8.11358728e-03,  1.27250589e-02,  1.29601777e-01, ...,\n",
       "           -3.34337279e-02,  5.89890517e-02,  2.32400466e-02],\n",
       "          [ 3.91352549e-02, -7.67671466e-02,  1.57001287e-01, ...,\n",
       "           -1.14646479e-01, -2.05267314e-02,  1.51687428e-01],\n",
       "          [-9.95819196e-02, -8.40933844e-02,  1.53322853e-02, ...,\n",
       "            5.63688837e-02,  1.02865575e-02,  3.04067433e-02]]],\n",
       " \n",
       " \n",
       "        [[[ 3.51475105e-02, -2.16752198e-02, -5.17524220e-02, ...,\n",
       "           -4.28145379e-02, -6.54398724e-02,  4.03157175e-02],\n",
       "          [ 3.41395549e-02,  2.67120376e-02,  6.82694139e-03, ...,\n",
       "           -3.05262413e-02,  8.57045203e-02, -6.77907392e-02],\n",
       "          [-9.99558493e-02, -1.04277462e-01,  3.84044498e-02, ...,\n",
       "            5.82489930e-02,  7.60795176e-02, -3.57293361e-03],\n",
       "          ...,\n",
       "          [ 1.04801647e-01,  8.75090510e-02,  2.16377042e-02, ...,\n",
       "            1.14999689e-01,  5.12777194e-02,  1.11717932e-01],\n",
       "          [ 2.33975099e-03,  3.50259915e-02, -1.34773463e-01, ...,\n",
       "           -1.09569401e-01,  2.35208105e-02, -4.01659384e-02],\n",
       "          [-1.11274339e-01, -1.43016860e-01, -1.21098705e-01, ...,\n",
       "           -4.94815409e-02,  5.91922924e-02, -5.60424179e-02]],\n",
       " \n",
       "         [[ 1.11138336e-01,  6.09316155e-02,  8.90466794e-02, ...,\n",
       "            1.26980066e-01, -8.24974403e-02, -1.91429686e-02],\n",
       "          [-4.14997488e-02,  1.01563789e-01, -1.05281927e-01, ...,\n",
       "           -4.93368022e-02,  7.62240961e-02, -4.81857732e-02],\n",
       "          [ 5.83749749e-02, -9.16233286e-02, -4.97221164e-02, ...,\n",
       "           -1.43781723e-02,  1.84397195e-02, -8.00580159e-02],\n",
       "          ...,\n",
       "          [-1.10852323e-01,  1.45787420e-02, -3.66213173e-02, ...,\n",
       "            1.23268798e-01, -1.01465598e-01,  5.39952554e-02],\n",
       "          [ 1.02509782e-01, -7.12719560e-02,  5.99689521e-02, ...,\n",
       "           -4.30995375e-02,  4.93079051e-02, -7.12448731e-03],\n",
       "          [ 2.38000341e-02, -1.09855920e-01,  7.70517811e-02, ...,\n",
       "            2.43722480e-02, -1.35843545e-01,  4.01314013e-02]],\n",
       " \n",
       "         [[ 6.44750595e-02,  2.16642469e-02,  6.60339743e-02, ...,\n",
       "           -1.38501748e-02, -1.37663534e-04,  5.33225201e-02],\n",
       "          [ 1.36963248e-01, -1.06631443e-01,  1.98601577e-02, ...,\n",
       "            1.71538088e-02, -2.14206818e-02,  1.46512300e-01],\n",
       "          [ 1.17408680e-02, -3.31206471e-02, -1.69246811e-02, ...,\n",
       "            2.67043784e-02, -1.04242191e-01, -7.57583156e-02],\n",
       "          ...,\n",
       "          [-4.75048646e-03,  2.61196848e-02, -5.42423986e-02, ...,\n",
       "            6.55902326e-02, -1.11598345e-02, -1.00570403e-01],\n",
       "          [ 8.93965289e-02,  6.62934482e-02, -6.93022534e-02, ...,\n",
       "            3.86720337e-02,  1.09947875e-01, -5.29802851e-02],\n",
       "          [-1.11091316e-01,  7.78972879e-02,  4.87398505e-02, ...,\n",
       "           -2.54748575e-02, -2.72834636e-02,  4.18838412e-02]]],\n",
       " \n",
       " \n",
       "        [[[ 1.12286195e-01, -3.20923887e-02,  1.73149817e-03, ...,\n",
       "            9.83483717e-02,  8.67223293e-02,  4.73615304e-02],\n",
       "          [ 4.02963236e-02, -9.78852659e-02,  1.96190756e-02, ...,\n",
       "           -5.07235900e-03,  8.73522535e-02,  7.96189457e-02],\n",
       "          [-1.00794353e-01, -1.02145575e-01, -1.05585858e-01, ...,\n",
       "           -2.24973653e-02, -3.56689245e-02, -1.02936335e-01],\n",
       "          ...,\n",
       "          [ 6.56093583e-02,  3.26099955e-02,  2.48665623e-02, ...,\n",
       "            6.76551238e-02, -2.21329834e-02, -1.20130323e-01],\n",
       "          [ 1.12501748e-01, -9.49945226e-02, -4.48162630e-02, ...,\n",
       "            3.28448042e-02,  1.20681189e-01,  7.67670479e-03],\n",
       "          [-7.78000876e-02, -2.76799947e-02,  9.69680771e-02, ...,\n",
       "            2.32364703e-02, -6.09051399e-02,  1.18594147e-01]],\n",
       " \n",
       "         [[ 7.23934472e-02,  3.60527225e-02, -7.69107118e-02, ...,\n",
       "            1.02993503e-01,  3.69503163e-02, -1.22767305e-02],\n",
       "          [-2.74102762e-02,  6.93876967e-02, -3.05998642e-02, ...,\n",
       "           -4.07338813e-02, -2.90107578e-02,  3.59431170e-02],\n",
       "          [-7.41226897e-02, -1.87637203e-03, -6.88472167e-02, ...,\n",
       "            5.91452420e-02, -1.34725943e-01, -1.23260565e-01],\n",
       "          ...,\n",
       "          [-2.26485040e-02,  1.65038034e-02,  5.27572334e-02, ...,\n",
       "            1.23376891e-01,  1.87773183e-02, -1.09428234e-01],\n",
       "          [ 1.12750374e-01, -1.82216857e-02, -3.68051231e-02, ...,\n",
       "           -4.24950458e-02,  9.03877392e-02,  5.09787314e-02],\n",
       "          [-8.93229395e-02, -9.99444127e-02, -2.62163021e-02, ...,\n",
       "            1.18435301e-01,  1.50407432e-02, -2.63183601e-02]],\n",
       " \n",
       "         [[ 5.15015610e-03,  9.42369998e-02,  8.11621770e-02, ...,\n",
       "           -4.56743538e-02,  7.07526058e-02, -4.64639589e-02],\n",
       "          [ 1.03098534e-01, -1.06169701e-01,  1.44427055e-02, ...,\n",
       "            1.19773388e-01, -1.78877916e-02, -3.47312987e-02],\n",
       "          [-6.04654197e-03, -1.17134131e-01, -6.37504980e-02, ...,\n",
       "            1.05500445e-01,  1.58833694e-02, -1.15597658e-01],\n",
       "          ...,\n",
       "          [-6.95255324e-02,  2.00287718e-02,  1.02337666e-01, ...,\n",
       "            1.14737555e-01, -2.26506256e-02, -9.99301895e-02],\n",
       "          [-2.97723096e-02, -2.40098890e-02,  4.82856780e-02, ...,\n",
       "            6.32450134e-02,  1.25653043e-01,  3.57264094e-02],\n",
       "          [-9.51007456e-02, -2.33113021e-02,  1.48631021e-01, ...,\n",
       "           -9.52936932e-02, -1.14643633e-01, -1.05070017e-01]]]],\n",
       "       dtype=float32)>,\n",
       " <tf.Variable 'conv2d_29/bias:0' shape=(32,) dtype=float32, numpy=\n",
       " array([ 0.01339412,  0.00905842,  0.01487634,  0.01169149,  0.00325462,\n",
       "        -0.00859906,  0.02611137,  0.00457069,  0.00252869,  0.04051144,\n",
       "        -0.00167607,  0.01174971,  0.00018351,  0.00224777, -0.00302864,\n",
       "         0.01356285,  0.00183194, -0.00978156,  0.02471919,  0.00567968,\n",
       "         0.00316287, -0.00918227, -0.00999841,  0.00685244,  0.01899723,\n",
       "        -0.00212295, -0.00096392,  0.04583513,  0.02501041, -0.00127725,\n",
       "         0.01181439,  0.0124245 ], dtype=float32)>,\n",
       " <tf.Variable 'conv2d_30/kernel:0' shape=(3, 3, 32, 64) dtype=float32, numpy=\n",
       " array([[[[ 0.02835466,  0.07381539, -0.00753778, ..., -0.08109768,\n",
       "           -0.02202574, -0.03832857],\n",
       "          [-0.03712149, -0.08054303, -0.02786304, ..., -0.01664855,\n",
       "           -0.07227711, -0.04601938],\n",
       "          [-0.03705694,  0.0329595 ,  0.01459086, ..., -0.04589688,\n",
       "            0.01824973, -0.01849661],\n",
       "          ...,\n",
       "          [ 0.01376562, -0.04211236,  0.03764321, ..., -0.07397595,\n",
       "            0.01497384, -0.03268803],\n",
       "          [ 0.04996204,  0.00909009,  0.00757508, ...,  0.01140474,\n",
       "           -0.02183997,  0.02676381],\n",
       "          [-0.00155593,  0.06880986, -0.08060649, ..., -0.01329093,\n",
       "           -0.08121246,  0.02466817]],\n",
       " \n",
       "         [[ 0.01273326,  0.0236863 ,  0.08879013, ..., -0.06043762,\n",
       "            0.04687899,  0.01572355],\n",
       "          [-0.08315353,  0.05676622, -0.03502623, ...,  0.09185538,\n",
       "           -0.06764658, -0.09037165],\n",
       "          [ 0.0575184 ,  0.0278302 , -0.04104381, ...,  0.01122303,\n",
       "           -0.02794585, -0.04619059],\n",
       "          ...,\n",
       "          [ 0.09535347,  0.01505798,  0.06367666, ...,  0.03533452,\n",
       "           -0.08405554,  0.07949182],\n",
       "          [ 0.07878717, -0.0626898 ,  0.06202373, ..., -0.00734184,\n",
       "            0.05036546,  0.00974358],\n",
       "          [ 0.07054701,  0.00611677,  0.0362818 , ..., -0.06937511,\n",
       "           -0.05987369, -0.03633637]],\n",
       " \n",
       "         [[ 0.07777928,  0.06194061, -0.03913254, ..., -0.03232821,\n",
       "           -0.04364073,  0.10966735],\n",
       "          [ 0.06165705, -0.00288456, -0.00930267, ..., -0.04008669,\n",
       "           -0.02686288, -0.05989247],\n",
       "          [-0.03745858,  0.01007839, -0.08431821, ..., -0.01064145,\n",
       "            0.00037732, -0.07219436],\n",
       "          ...,\n",
       "          [ 0.0013324 , -0.04390342,  0.06351119, ...,  0.0005227 ,\n",
       "           -0.07643112, -0.03042191],\n",
       "          [-0.01247668, -0.09814911, -0.04220001, ..., -0.08952572,\n",
       "            0.06715702,  0.02413415],\n",
       "          [ 0.09035563, -0.01518263,  0.02691897, ..., -0.09759738,\n",
       "           -0.07332368,  0.08485962]]],\n",
       " \n",
       " \n",
       "        [[[-0.00254712, -0.02393436,  0.11485839, ..., -0.03902975,\n",
       "           -0.01252513,  0.0693467 ],\n",
       "          [ 0.03780716, -0.02251849,  0.094526  , ...,  0.0610111 ,\n",
       "            0.04636677,  0.01331588],\n",
       "          [ 0.00729489,  0.03093187, -0.02650094, ...,  0.00863953,\n",
       "            0.05006973, -0.07786585],\n",
       "          ...,\n",
       "          [ 0.03035693,  0.08982582, -0.04866288, ..., -0.00105175,\n",
       "           -0.03380642, -0.0224324 ],\n",
       "          [-0.06875464,  0.01011266, -0.04720487, ..., -0.03662531,\n",
       "            0.00365236, -0.01674592],\n",
       "          [ 0.08581896,  0.0401067 ,  0.10368754, ..., -0.03108283,\n",
       "           -0.01509923,  0.05707445]],\n",
       " \n",
       "         [[-0.00120801, -0.0778137 ,  0.0048001 , ...,  0.09550719,\n",
       "           -0.06913196,  0.05985843],\n",
       "          [ 0.07924905,  0.03138847,  0.05742107, ...,  0.06307296,\n",
       "           -0.04691664,  0.1065461 ],\n",
       "          [-0.01799853,  0.03813877, -0.00695906, ..., -0.03040672,\n",
       "            0.02965115,  0.00046016],\n",
       "          ...,\n",
       "          [ 0.06596709,  0.08890781,  0.05292635, ...,  0.0431852 ,\n",
       "           -0.03138465, -0.0707445 ],\n",
       "          [ 0.03352358,  0.03748703,  0.06189417, ...,  0.04490482,\n",
       "           -0.05344285, -0.01036942],\n",
       "          [ 0.01638345, -0.07073633,  0.05458573, ..., -0.07668971,\n",
       "           -0.01974446,  0.04725465]],\n",
       " \n",
       "         [[-0.02431459, -0.03171172, -0.04478294, ...,  0.02984891,\n",
       "           -0.06020224, -0.0082174 ],\n",
       "          [-0.04880968, -0.01834157,  0.04568954, ..., -0.03441085,\n",
       "            0.01713998,  0.00999336],\n",
       "          [ 0.00778225,  0.01602931,  0.01190354, ..., -0.0682788 ,\n",
       "            0.00013413, -0.05747959],\n",
       "          ...,\n",
       "          [ 0.02244971,  0.07496324, -0.07865042, ...,  0.04707026,\n",
       "            0.00394558,  0.04872122],\n",
       "          [-0.01779229, -0.03559336,  0.0238658 , ..., -0.03759974,\n",
       "            0.0376014 ,  0.03654423],\n",
       "          [-0.03420521,  0.00494474,  0.0822408 , ..., -0.07477739,\n",
       "           -0.0727786 ,  0.09517977]]],\n",
       " \n",
       " \n",
       "        [[[ 0.00136278, -0.06660485,  0.05558453, ...,  0.05734046,\n",
       "           -0.02361342, -0.02779549],\n",
       "          [-0.00665634, -0.0258592 ,  0.09224277, ..., -0.00297051,\n",
       "           -0.04960021, -0.00986286],\n",
       "          [-0.0292078 , -0.07407846,  0.05285835, ..., -0.03596077,\n",
       "           -0.03394576, -0.00677975],\n",
       "          ...,\n",
       "          [-0.05226162,  0.04496957,  0.02672825, ..., -0.04163243,\n",
       "            0.0270429 , -0.00977115],\n",
       "          [-0.04695595, -0.09661593,  0.06426379, ..., -0.04704569,\n",
       "            0.05775165, -0.02167542],\n",
       "          [ 0.00286759,  0.04544989,  0.06922853, ...,  0.02753085,\n",
       "           -0.02291684,  0.01143209]],\n",
       " \n",
       "         [[-0.07361998, -0.00994201,  0.00711961, ..., -0.00725554,\n",
       "           -0.06365661,  0.01408319],\n",
       "          [ 0.05346268, -0.01118976,  0.04253504, ...,  0.06274369,\n",
       "            0.04875742,  0.04607323],\n",
       "          [ 0.07634977,  0.0536787 , -0.05652865, ..., -0.06228652,\n",
       "           -0.05493306,  0.00660351],\n",
       "          ...,\n",
       "          [ 0.02517628,  0.03380694, -0.0637245 , ..., -0.02823544,\n",
       "           -0.05725298, -0.08716475],\n",
       "          [-0.07299994, -0.03502839,  0.06230674, ...,  0.0718729 ,\n",
       "           -0.03424327,  0.02450535],\n",
       "          [ 0.01963607,  0.04414654,  0.06685238, ..., -0.05620838,\n",
       "           -0.04686888, -0.01810757]],\n",
       " \n",
       "         [[-0.01439975, -0.080354  ,  0.01871456, ..., -0.01945828,\n",
       "            0.05319684,  0.01951275],\n",
       "          [ 0.0052837 , -0.03361806,  0.0638168 , ..., -0.07236388,\n",
       "           -0.06979905, -0.02553925],\n",
       "          [ 0.03257116,  0.03308264,  0.07355259, ...,  0.06003602,\n",
       "           -0.08120971, -0.00056674],\n",
       "          ...,\n",
       "          [ 0.07392399,  0.01672985, -0.05165745, ..., -0.01192871,\n",
       "            0.00612319, -0.08296112],\n",
       "          [-0.05578469, -0.01877739, -0.08563987, ...,  0.00515705,\n",
       "            0.06382014, -0.04525156],\n",
       "          [-0.00686672,  0.04611229,  0.04908234, ...,  0.01647077,\n",
       "           -0.02026515,  0.07035574]]]], dtype=float32)>,\n",
       " <tf.Variable 'conv2d_30/bias:0' shape=(64,) dtype=float32, numpy=\n",
       " array([ 9.8616509e-03,  8.3509563e-03, -3.1144431e-04,  8.6262640e-05,\n",
       "         1.7928060e-02,  6.0996739e-03,  4.6433094e-03, -9.2574097e-03,\n",
       "         4.0313122e-03,  2.0028611e-03,  1.3093527e-02, -7.3709730e-03,\n",
       "        -8.2057929e-03,  8.9486390e-03,  2.4305908e-02,  2.8531456e-02,\n",
       "        -1.2220032e-02,  1.6382545e-02,  2.0078752e-02,  1.5241920e-02,\n",
       "        -1.5342854e-02,  1.9612850e-03,  2.4050711e-02,  9.3949251e-03,\n",
       "         1.3375226e-02,  9.8236813e-04,  7.3555321e-04,  1.2133985e-03,\n",
       "         2.8928916e-03,  1.5204697e-02, -1.3146645e-03, -9.6433107e-03,\n",
       "         1.0156860e-03,  1.6284347e-02,  1.1522489e-02,  2.1505937e-02,\n",
       "         8.6460216e-03,  9.9185184e-03,  4.9013803e-03,  4.0292246e-03,\n",
       "         5.9649392e-06,  2.9067775e-02,  1.2998885e-02,  1.8801829e-02,\n",
       "         1.8455114e-02, -9.8359538e-04,  1.6942982e-02, -2.2366645e-03,\n",
       "        -9.5931655e-03,  7.8131603e-03,  9.2952317e-03,  1.6597983e-03,\n",
       "         5.4660500e-03,  5.7693310e-03, -5.4775323e-03,  2.3091590e-02,\n",
       "        -1.8068193e-02, -7.9360977e-03,  1.0464340e-02,  8.5603232e-03,\n",
       "         5.1085269e-03,  1.1016333e-02,  4.3641096e-03, -1.3452807e-02],\n",
       "       dtype=float32)>,\n",
       " <tf.Variable 'conv2d_31/kernel:0' shape=(2, 2, 64, 64) dtype=float32, numpy=\n",
       " array([[[[ 0.05436608,  0.09691009,  0.06517784, ..., -0.021693  ,\n",
       "           -0.09288447, -0.08562184],\n",
       "          [-0.05080267,  0.07782985, -0.07143317, ..., -0.04387198,\n",
       "           -0.06383968,  0.02940795],\n",
       "          [-0.06550283,  0.00744059,  0.03666585, ..., -0.0780293 ,\n",
       "           -0.11611695,  0.07432864],\n",
       "          ...,\n",
       "          [ 0.06754898, -0.00987677,  0.0550259 , ...,  0.06370245,\n",
       "           -0.03397751,  0.14808866],\n",
       "          [ 0.028574  ,  0.01085949, -0.04664109, ..., -0.07245795,\n",
       "            0.04905578,  0.00345425],\n",
       "          [-0.10343075,  0.07637031, -0.05807021, ..., -0.0313741 ,\n",
       "            0.0851921 ,  0.00671379]],\n",
       " \n",
       "         [[ 0.1155576 ,  0.0105594 , -0.04251285, ..., -0.05020625,\n",
       "            0.06268175,  0.07409781],\n",
       "          [ 0.06070595,  0.04153926,  0.08188002, ...,  0.07087884,\n",
       "            0.0510352 , -0.01665323],\n",
       "          [ 0.05767728, -0.10038663,  0.0900056 , ...,  0.05711523,\n",
       "            0.0823146 , -0.10061038],\n",
       "          ...,\n",
       "          [-0.0674675 , -0.03418451, -0.02944783, ..., -0.02203161,\n",
       "           -0.01923473,  0.00677216],\n",
       "          [-0.09929625, -0.05211982,  0.02243246, ..., -0.04853067,\n",
       "            0.085839  ,  0.0224912 ],\n",
       "          [-0.06055719,  0.04391736,  0.03770433, ...,  0.11522269,\n",
       "           -0.022804  , -0.03197356]]],\n",
       " \n",
       " \n",
       "        [[[-0.02840639, -0.02923681, -0.05217811, ...,  0.02178069,\n",
       "           -0.00790848, -0.10830329],\n",
       "          [-0.00823536,  0.10232627, -0.02447927, ...,  0.08002969,\n",
       "            0.07020046, -0.06680898],\n",
       "          [ 0.07382448, -0.05300789,  0.02287945, ...,  0.00090256,\n",
       "           -0.01980329, -0.08068923],\n",
       "          ...,\n",
       "          [ 0.08994994, -0.10148945, -0.10766193, ...,  0.03687259,\n",
       "            0.06931929,  0.07506016],\n",
       "          [ 0.10079854, -0.08619441, -0.09017728, ..., -0.0273613 ,\n",
       "            0.02887844,  0.10446745],\n",
       "          [ 0.0853863 ,  0.04721462,  0.10259313, ...,  0.02392377,\n",
       "            0.09321208, -0.0838632 ]],\n",
       " \n",
       "         [[ 0.02164743, -0.06343956,  0.11391697, ..., -0.0864642 ,\n",
       "            0.00622666, -0.0895486 ],\n",
       "          [-0.07290221, -0.05613013, -0.0202015 , ...,  0.03104336,\n",
       "           -0.03558698, -0.09123123],\n",
       "          [ 0.01579612,  0.03630829,  0.11108151, ..., -0.04307748,\n",
       "            0.02413659, -0.09885833],\n",
       "          ...,\n",
       "          [-0.04049463,  0.07812833, -0.0902029 , ..., -0.02515784,\n",
       "            0.09494796,  0.10649643],\n",
       "          [-0.04001406, -0.05994681, -0.08098909, ..., -0.0518196 ,\n",
       "            0.00479   , -0.03646895],\n",
       "          [-0.06001281, -0.04804931, -0.01514243, ..., -0.08793507,\n",
       "           -0.10381757, -0.09029286]]]], dtype=float32)>,\n",
       " <tf.Variable 'conv2d_31/bias:0' shape=(64,) dtype=float32, numpy=\n",
       " array([ 1.8896913e-02, -4.7324761e-03,  1.3587151e-03,  5.3097019e-03,\n",
       "         8.4303244e-04, -3.1075305e-03,  6.4908643e-03, -6.1367596e-03,\n",
       "         1.4734563e-02, -2.3606054e-03,  9.2759533e-03, -3.3076140e-03,\n",
       "        -1.7946102e-03,  3.1203046e-05, -9.6687432e-03,  1.1391340e-02,\n",
       "         2.9895629e-03,  1.6806349e-02,  1.9212561e-02, -1.2956385e-03,\n",
       "        -7.8262119e-03, -8.9871306e-03, -8.0374898e-03, -1.2481013e-02,\n",
       "         1.0339398e-02,  4.9576499e-03,  2.1022534e-02, -2.0927007e-03,\n",
       "         1.4518094e-02, -3.3506164e-03, -1.0580167e-02,  1.2989121e-02,\n",
       "         1.5937617e-02,  1.1649729e-02,  1.3399207e-03,  4.0522381e-03,\n",
       "         5.6244512e-03, -1.0006822e-02, -6.3054645e-03, -1.3607096e-02,\n",
       "        -9.7312164e-03,  1.2413906e-03,  1.1386753e-02, -7.3712398e-03,\n",
       "         4.6079587e-03, -1.1035857e-02,  5.2591884e-03, -8.2582626e-03,\n",
       "         7.6773730e-03, -8.2622590e-03, -5.5165375e-03, -1.8838464e-03,\n",
       "         3.5146754e-03, -1.3462716e-02, -8.2166810e-03,  2.5936589e-03,\n",
       "        -1.1601089e-02,  3.0139312e-03, -1.0187391e-02,  1.4302043e-02,\n",
       "         0.0000000e+00,  3.6629417e-03, -4.1323239e-03, -4.4475244e-03],\n",
       "       dtype=float32)>,\n",
       " <tf.Variable 'dense_14/kernel:0' shape=(576, 10) dtype=float32, numpy=\n",
       " array([[ 0.03850334, -0.05349365,  0.08536039, ..., -0.06286331,\n",
       "          0.05910269,  0.00127441],\n",
       "        [-0.04669667,  0.02618296,  0.03027938, ...,  0.08892722,\n",
       "          0.063196  ,  0.0895622 ],\n",
       "        [ 0.04930153,  0.06718317, -0.00910289, ..., -0.05168379,\n",
       "         -0.05368035, -0.0034435 ],\n",
       "        ...,\n",
       "        [ 0.06357139,  0.03724691,  0.00537837, ..., -0.05931747,\n",
       "          0.09077203,  0.03385175],\n",
       "        [ 0.10570138,  0.08956027, -0.08308433, ...,  0.05381709,\n",
       "         -0.00600567,  0.0857207 ],\n",
       "        [ 0.13159792, -0.03321836,  0.00302024, ..., -0.03704569,\n",
       "          0.05509621,  0.09162913]], dtype=float32)>,\n",
       " <tf.Variable 'dense_14/bias:0' shape=(10,) dtype=float32, numpy=\n",
       " array([-7.1164807e-03, -6.2041814e-03,  1.3818013e-02,  1.6720032e-02,\n",
       "        -5.9959553e-03,  1.7604670e-02, -5.9960014e-03,  4.6018940e-05,\n",
       "        -9.3435142e-03, -6.0445955e-03], dtype=float32)>,\n",
       " <tf.Variable 'dense_15/kernel:0' shape=(10, 1) dtype=float32, numpy=\n",
       " array([[-0.31899273],\n",
       "        [ 0.03334141],\n",
       "        [ 0.3224    ],\n",
       "        [ 0.479045  ],\n",
       "        [-0.3543807 ],\n",
       "        [ 0.23273818],\n",
       "        [-0.61833656],\n",
       "        [-0.4847652 ],\n",
       "        [-0.2671434 ],\n",
       "        [-0.3647885 ]], dtype=float32)>,\n",
       " <tf.Variable 'dense_15/bias:0' shape=(1,) dtype=float32, numpy=array([0.00914474], dtype=float32)>]"
      ]
     },
     "execution_count": 66,
     "metadata": {},
     "output_type": "execute_result"
    }
   ],
   "source": [
    "model.weights"
   ]
  },
  {
   "cell_type": "markdown",
   "metadata": {},
   "source": [
    "❓ **Try to access the weights matrix `w` of your first convolution layer, then your second one** ❓  \n",
    "hint: layer parameters consist of weight matrix and biases (w, b)"
   ]
  },
  {
   "cell_type": "code",
   "execution_count": 72,
   "metadata": {
    "tags": [
     "challengify"
    ]
   },
   "outputs": [
    {
     "data": {
      "text/plain": [
       "<tf.Variable 'conv2d_28/bias:0' shape=(16,) dtype=float32, numpy=\n",
       "array([ 0.02257467, -0.00612845, -0.00238545, -0.00322489,  0.01717198,\n",
       "       -0.00231702,  0.02615773, -0.00211229,  0.01641669,  0.03259748,\n",
       "        0.02763378,  0.03186078,  0.0150335 , -0.00264272,  0.00281415,\n",
       "        0.00189275], dtype=float32)>"
      ]
     },
     "execution_count": 72,
     "metadata": {},
     "output_type": "execute_result"
    }
   ],
   "source": [
    "model.weights[1]"
   ]
  },
  {
   "cell_type": "markdown",
   "metadata": {},
   "source": [
    "❓ **What do their shapes represent** ❓"
   ]
  },
  {
   "cell_type": "markdown",
   "metadata": {
    "tags": [
     "challengify"
    ]
   },
   "source": [
    "> YOUR ANSWER HERE"
   ]
  },
  {
   "cell_type": "markdown",
   "metadata": {},
   "source": [
    "❓ **Question: visualizing the first layer** ❓ \n",
    "\n",
    "The original picture had 1 channel.. and we created 16 outputs using 16 kernels!\n",
    "\n",
    "🪄 Using `plot_convolution(activation = True)`, display some kernels from the first convolutional layer, along with the activation output, to see what the model has learned from the images in this layer."
   ]
  },
  {
   "cell_type": "code",
   "execution_count": null,
   "metadata": {
    "tags": [
     "challengify"
    ]
   },
   "outputs": [],
   "source": []
  },
  {
   "cell_type": "markdown",
   "metadata": {},
   "source": [
    "#### (2.2.2) Activations"
   ]
  },
  {
   "cell_type": "markdown",
   "metadata": {},
   "source": [
    "We have been looking at the activation (\"`output image`\") of the **first convolutional layer** only.\n",
    "\n",
    "🤔 What if we want to **visualize the activation of an image after the second convolutional layer of the CNN, or the third one?**\n",
    "\n",
    "1. We'll need to compute activation from the first layer\n",
    "2. Then feed it to the second to compute activation of the second one\n",
    "3. Then feed it to the third ...\n",
    "4. etc...\n",
    "\n",
    "👇 We'll do it for you below using the  `tensorflow.keras` `Fonctional API` syntax! Make sure you understand it all !"
   ]
  },
  {
   "cell_type": "markdown",
   "metadata": {},
   "source": [
    "<u><i>Step 1: list all the 11 layers' outputs of your CNN</i></u>"
   ]
  },
  {
   "cell_type": "code",
   "execution_count": 73,
   "metadata": {},
   "outputs": [
    {
     "data": {
      "text/plain": [
       "[<KerasTensor: shape=(None, 76, 78, 16) dtype=float32 (created by layer 'conv2d_28')>,\n",
       " <KerasTensor: shape=(None, 38, 39, 16) dtype=float32 (created by layer 'max_pooling2d_28')>,\n",
       " <KerasTensor: shape=(None, 36, 37, 32) dtype=float32 (created by layer 'conv2d_29')>,\n",
       " <KerasTensor: shape=(None, 18, 18, 32) dtype=float32 (created by layer 'max_pooling2d_29')>,\n",
       " <KerasTensor: shape=(None, 16, 16, 64) dtype=float32 (created by layer 'conv2d_30')>,\n",
       " <KerasTensor: shape=(None, 8, 8, 64) dtype=float32 (created by layer 'max_pooling2d_30')>,\n",
       " <KerasTensor: shape=(None, 7, 7, 64) dtype=float32 (created by layer 'conv2d_31')>,\n",
       " <KerasTensor: shape=(None, 3, 3, 64) dtype=float32 (created by layer 'max_pooling2d_31')>,\n",
       " <KerasTensor: shape=(None, 576) dtype=float32 (created by layer 'flatten_7')>,\n",
       " <KerasTensor: shape=(None, 10) dtype=float32 (created by layer 'dense_14')>,\n",
       " <KerasTensor: shape=(None, 1) dtype=float32 (created by layer 'dense_15')>]"
      ]
     },
     "execution_count": 73,
     "metadata": {},
     "output_type": "execute_result"
    }
   ],
   "source": [
    "layers_outputs = [layer.output for layer in model.layers]\n",
    "layers_outputs"
   ]
  },
  {
   "cell_type": "markdown",
   "metadata": {},
   "source": [
    "<u><i>Step 2: Instantiate 11 sub-models re-using already trained weights and biases</i></u> \n",
    "- layer1\n",
    "- layer1 $ \\Rightarrow $ layer2\n",
    "- layer1 $ \\Rightarrow $ layer2 $ \\Rightarrow $ layer3\n",
    "- ... "
   ]
  },
  {
   "cell_type": "code",
   "execution_count": 74,
   "metadata": {},
   "outputs": [],
   "source": [
    "from tensorflow.keras import Model"
   ]
  },
  {
   "cell_type": "code",
   "execution_count": 75,
   "metadata": {},
   "outputs": [],
   "source": [
    "activation_models = [Model(inputs=model.input, outputs=output) for output in layers_outputs]"
   ]
  },
  {
   "cell_type": "markdown",
   "metadata": {},
   "source": [
    "<u><i>Step 3: Compute the outputs of each submodel</i></u>"
   ]
  },
  {
   "cell_type": "code",
   "execution_count": 76,
   "metadata": {},
   "outputs": [
    {
     "data": {
      "text/plain": [
       "11"
      ]
     },
     "execution_count": 76,
     "metadata": {},
     "output_type": "execute_result"
    }
   ],
   "source": [
    "activations = [m.predict(X) for m in activation_models]\n",
    "len(activations)"
   ]
  },
  {
   "cell_type": "markdown",
   "metadata": {},
   "source": [
    "👇 Pro tips below! In tensorflow, you could also create a single model with many outputs to avoid python loops "
   ]
  },
  {
   "cell_type": "code",
   "execution_count": 77,
   "metadata": {},
   "outputs": [],
   "source": [
    "layers_outputs = [layer.output for layer in model.layers] # same as above\n",
    "activation_model = Model(inputs=model.input, outputs=layers_outputs) # model with many outputs !\n",
    "activations = activation_model.predict(X) # 11 predictions at once!"
   ]
  },
  {
   "cell_type": "markdown",
   "metadata": {},
   "source": [
    "❓ **Now that we computed the activations, choose one image and display the activation \"images\" of each convolutional layer** ❓ \n"
   ]
  },
  {
   "cell_type": "code",
   "execution_count": null,
   "metadata": {
    "tags": [
     "challengify"
    ]
   },
   "outputs": [],
   "source": [
    "\n"
   ]
  },
  {
   "cell_type": "markdown",
   "metadata": {},
   "source": [
    "🧑🏻‍🏫 ***Notes*** 🧑🏻‍🏫\n",
    "\n",
    "1. Notice how the information of an image **flows** through the Convolutional Neural Network.\n",
    "2. You should see the picture becoming more and more \"abstract\", of smaller and smaller \"dimensions\""
   ]
  },
  {
   "cell_type": "markdown",
   "metadata": {},
   "source": [
    "🏁 **Congratulations!**\n",
    "\n",
    "💾 Don't forget to `git add/commit/push` your notebook...\n",
    "\n",
    "🚀 ... and move on to the next challenge!"
   ]
  },
  {
   "cell_type": "markdown",
   "metadata": {},
   "source": [
    "## (3) (Appendix) Utils\n",
    "\n",
    "* The following section simply presents the functions that helped us create the dataset with triangles and circles you have been working with.\n",
    "\n",
    "* They were left at the end of the notebook just in case you want to further prototype and get better understanding of what is going on. \n",
    "\n",
    "* But skip this section and go to the next exercise as for now, and come back to it any time later."
   ]
  },
  {
   "cell_type": "code",
   "execution_count": null,
   "metadata": {},
   "outputs": [],
   "source": [
    "def draw_triangle():\n",
    "    dx = np.random.uniform(0.1, 0.3)\n",
    "    dy = np.random.uniform(0.1, 0.3)\n",
    "    noise_x = np.random.uniform(0.0, 0.1)\n",
    "    noise_y = np.random.uniform(0.0, 0.1)    \n",
    "    \n",
    "    x = np.random.uniform(0, 1-dx-noise_x)\n",
    "    y = np.random.uniform(0, 1-dy)\n",
    "    X = np.array([[x,y], [x+dx+noise_x,y], [x+dx/2, y+dy+noise_y]])\n",
    "\n",
    "    t1 = plt.Polygon(X, color='black')\n",
    "    plt.gca().add_patch(t1)\n",
    "    \n",
    "def draw_circle():\n",
    "    r = np.random.uniform(0.1, 0.25)\n",
    "    x = np.random.uniform(0+r, 1-r)\n",
    "    y = np.random.uniform(0+r, 1-r)\n",
    "\n",
    "    circle1 = plt.Circle((x, y), r, color='black')\n",
    "    plt.gcf().gca().add_artist(circle1)\n",
    "    \n",
    "def create_image(form, path):\n",
    "    plt.figure(figsize=(1, 1))\n",
    "    if form == 'circle':\n",
    "        draw_circle()\n",
    "    elif form == 'triangle':\n",
    "        draw_triangle()\n",
    "    plt.axis('off')\n",
    "    plt.savefig(path, dpi=80, bbox_inches='tight')\n",
    "    plt.close()\n",
    "\n",
    "    \n",
    "def create_images(path):\n",
    "    nb_circles = 100\n",
    "    nb_triangles = 100\n",
    "    \n",
    "    for i in range(nb_circles):\n",
    "        c_path = os.path.join(path, 'circles', f'circle_{i}.png')\n",
    "        create_image('circle', c_path)\n",
    "        \n",
    "    for i in range(nb_triangles):\n",
    "        t_path = os.path.join(path, 'triangles', f'triangle_{i}.png')\n",
    "        create_image('triangle', t_path)"
   ]
  }
 ],
 "metadata": {
  "kernelspec": {
   "display_name": "Python 3 (ipykernel)",
   "language": "python",
   "name": "python3"
  },
  "language_info": {
   "codemirror_mode": {
    "name": "ipython",
    "version": 3
   },
   "file_extension": ".py",
   "mimetype": "text/x-python",
   "name": "python",
   "nbconvert_exporter": "python",
   "pygments_lexer": "ipython3",
   "version": "3.8.12"
  },
  "toc": {
   "base_numbering": 1,
   "nav_menu": {},
   "number_sections": true,
   "sideBar": true,
   "skip_h1_title": false,
   "title_cell": "Table of Contents",
   "title_sidebar": "Contents",
   "toc_cell": false,
   "toc_position": {},
   "toc_section_display": true,
   "toc_window_display": false
  }
 },
 "nbformat": 4,
 "nbformat_minor": 4
}
