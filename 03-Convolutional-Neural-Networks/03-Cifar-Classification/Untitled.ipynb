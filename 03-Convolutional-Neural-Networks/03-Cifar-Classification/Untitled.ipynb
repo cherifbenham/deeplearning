{
 "cells": [
  {
   "cell_type": "code",
   "execution_count": 3,
   "id": "9189892a",
   "metadata": {},
   "outputs": [
    {
     "name": "stdout",
     "output_type": "stream",
     "text": [
      "['A48', 'Lestini,Daniel', 'Canestrari,Daniele', '1392', 'Porto Sant Elpidio op-B 9th Porto Sant Elpidio', '25.11.2006', 'white win', '49']\n",
      "['A48', 'Lestini,Giampiero', 'Micucci,Alberto', '1461', 'Porto Sant Elpidio op-B 9th Porto Sant Elpidio', '25.11.2006', 'black win', '35']\n",
      "['C62', 'Macellari,Giordano', 'Marini,Jacopo', '1398', '1472', 'Porto Sant Elpidio op-B 9th Porto Sant Elpidio', '25.11.2006', 'black win', '66']\n",
      "['A05', 'Menichelli,Mario', 'Ripa,Daniele', '1332', '1587', 'Porto Sant Elpidio op-B 9th Porto Sant Elpidio', '25.11.2006', 'black win', '18']\n",
      "['D52', 'Morelli,Basilio', 'Cesarini,Francesco', '1467', '1413', 'Porto Sant Elpidio op-B 9th Porto Sant Elpidio', '25.11.2006', 'white win', '19']\n",
      "['E82', 'Piergentili,Roberto', 'Mantino,Mauro', '1721', '1482', 'Porto Sant Elpidio op-B 9th Porto Sant Elpidio', '25.11.2006', 'draw', '65']\n"
     ]
    }
   ],
   "source": [
    "import re\n",
    "\n",
    "# white_name, white_elo, black_name, black_elo, opening_id, place, date, number_moves, result\n",
    "\n",
    "chess_data = []\n",
    "game_data = []\n",
    "\n",
    "with open('cherif_chess.txt', 'r') as f:\n",
    "    text = (row for row in f.readlines())\n",
    "    \n",
    "name_pattern = r'\\w+,\\w+'\n",
    "elo_regex = r'(\\()(\\d{4})(\\))'\n",
    "opening_id_pattern = r'(\\[)(\\w\\d+)(\\])'\n",
    "place_pattern = r'(.*)(\\(\\d\\))'\n",
    "date_pattern = r'\\d{2}\\.\\d{2}\\.\\d{4}'\n",
    "final_move_pattern = r'(.*)(\\s)(\\d{1,3})(\\.)(.{8,14})(0-1)'# | (.*)(\\d{1,3}\\.)(.{8,14})(1-0) | (.*)(\\d{1,3}\\.)(.{8,14})(1/2-1/2)'\n",
    "\n",
    "for row in text:\n",
    "    if '[' in row:\n",
    "        if game_data:\n",
    "            chess_data.append(game_data)\n",
    "            game_data = []\n",
    "        id = re.findall(opening_id_pattern, row)\n",
    "        game_data.append(id[0][1])        \n",
    "        names = re.findall(name_pattern, row)\n",
    "        for name in names:\n",
    "            game_data.append(name)\n",
    "        elos = re.findall(elo_regex, row)\n",
    "        for elo in elos:\n",
    "            game_data.append(elo[1])\n",
    "    place = re.findall(place_pattern, row)\n",
    "    if place:\n",
    "        game_data.append(place[0][0].strip())\n",
    "    date = re.findall(date_pattern, row)\n",
    "    if date:\n",
    "        game_data.append(date[0])\n",
    "    if '0-1' in row:\n",
    "        game_data.append('black win')\n",
    "        final_move_pattern = r'(.*)(\\s)(\\d{1,3})(\\.)(.{4,14})(0-1)'\n",
    "        final_move = re.findall(final_move_pattern, row)\n",
    "        game_data.append(final_move[0][2])\n",
    "    elif '1-0' in row:\n",
    "        game_data.append('white win')\n",
    "        final_move_pattern = r'(.*)(\\s)(\\d{1,3})(\\.)(.{4,14})(1-0)'\n",
    "        final_move = re.findall(final_move_pattern, row)\n",
    "        game_data.append(final_move[0][2])\n",
    "    elif '1/2-1/2' in row:\n",
    "        game_data.append('draw')\n",
    "        final_move_pattern = r'(.*)(\\s)(\\d{1,3})(\\.)(.{4,14})(1/2-1/2)'\n",
    "        final_move = re.findall(final_move_pattern, row)\n",
    "        game_data.append(final_move[0][2])\n",
    "chess_data.append(game_data) # last game data\n",
    "\n",
    "for e in chess_data:\n",
    "    print(e)\n",
    "            \n",
    "# opening id\n",
    "# opening_id_pattern = r'\\[\\w\\d+\\]'\n",
    "# for elo in text:\n",
    "#     if re.findall(opening_id_pattern, elo):\n",
    "#         print(re.findall(opening_id_pattern, elo))\n",
    "\n",
    "# place\n",
    "# place_pattern = r'(.*)(\\(\\d\\))'\n",
    "# for row in text:\n",
    "#     if re.findall(place_pattern, row):\n",
    "#         print(re.findall(place_pattern, row)[0][0].strip())\n",
    "\n",
    "# date\n",
    "# date_pattern = r'\\d{2}\\.\\d{2}\\.\\d{4}'\n",
    "# for row in text:\n",
    "#     if re.findall(date_pattern, row):\n",
    "#         print(re.findall(date_pattern, row)[0])\n",
    "\n",
    "# result\n",
    "# for row in text:\n",
    "#     if '1-0' in row:\n",
    "#         print('1-0')\n",
    "#     elif '0-1' in row:\n",
    "#         print('0-1')\n",
    "#     else:\n",
    "#         print('draw')\n",
    "\n",
    "# nb_moves\n",
    "# final_move_pattern = r'(.*)(\\s)(\\d{1,3})(\\.)(.{8,14})(0-1)'# | (.*)(\\d{1,3}\\.)(.{8,14})(1-0) | (.*)(\\d{1,3}\\.)(.{8,14})(1/2-1/2)'\n",
    "# text = '58.Kf6 g4 59.Rg8 Kf4 60.Rg5 Ke4 61.Rg8 Ke3 62.Re8+ Kf2 63.Kg5 g3 64.Ra8 g2 65.Ra2+ Kg1 0-1'\n",
    "# print(re.findall(final_move_pattern, text)[0][2])"
   ]
  },
  {
   "cell_type": "code",
   "execution_count": 2,
   "id": "6951b547",
   "metadata": {},
   "outputs": [
    {
     "data": {
      "text/plain": [
       "['Lestini,Daniel (1392) - Canestrari,Daniele [A48]\\n',\n",
       " 'Porto Sant Elpidio op-B 9th Porto Sant Elpidio (4), 25.11.2006\\n',\n",
       " '\\n',\n",
       " '1.d4 Nf6 2.Nf3 g6 3.Bf4 Bg7 4.e3 d6 5.Nc3 0-0 6.Bd3 Nbd7 7.0-0 b6 8.Re1 Bb7 9.e4 c5 10.d5 Nh5 11.Be3 Rc8 12.Bc4 a6 13.Qd2 b5 14.Be2 b4 15.Na4 Nb6 16.Nxb6 Qxb6 17.Rab1 Qa5 18.Bh6 Qxa2 19.Bxg7 Kxg7 20.Ng5 h6 21.Bxh5 gxh5 22.Nh3 Qc4 23.b3 Qd4 24.Qe2 Qe5 25.Qf3 Kh8 26.Qe3 Qg7 27.Nf4 Rg8 28.g3 Qg5 29.Qf3 h4 30.Ng2 hxg3 31.fxg3 Rcf8 32.Rf1 f6 33.Qf5 Bc8 34.Qxg5 fxg5 35.Rxf8 Rxf8 36.Ra1 h5 37.Ne3 h4 38.Kg2 h3+ 39.Kg1 Rf3 40.Nc4 Rc3 41.Ra2 Rf3 42.Nb6 Bb7 43.Ra1 Re3 44.Rf1 Kg7 45.Rf5 Re1+ 46.Kf2 Rh1 47.Rxg5+ Kf8 48.Rh5 Rxh2+ 49.Kg1 1-0\\n']"
      ]
     },
     "execution_count": 2,
     "metadata": {},
     "output_type": "execute_result"
    }
   ],
   "source": []
  }
 ],
 "metadata": {
  "kernelspec": {
   "display_name": "Python 3 (ipykernel)",
   "language": "python",
   "name": "python3"
  },
  "language_info": {
   "codemirror_mode": {
    "name": "ipython",
    "version": 3
   },
   "file_extension": ".py",
   "mimetype": "text/x-python",
   "name": "python",
   "nbconvert_exporter": "python",
   "pygments_lexer": "ipython3",
   "version": "3.8.12"
  },
  "toc": {
   "base_numbering": 1,
   "nav_menu": {},
   "number_sections": true,
   "sideBar": true,
   "skip_h1_title": false,
   "title_cell": "Table of Contents",
   "title_sidebar": "Contents",
   "toc_cell": false,
   "toc_position": {},
   "toc_section_display": true,
   "toc_window_display": false
  }
 },
 "nbformat": 4,
 "nbformat_minor": 5
}
