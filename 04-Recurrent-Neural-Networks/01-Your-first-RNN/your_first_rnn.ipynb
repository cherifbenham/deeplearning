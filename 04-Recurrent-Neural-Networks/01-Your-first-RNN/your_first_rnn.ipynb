{
 "cells": [
  {
   "cell_type": "markdown",
   "metadata": {},
   "source": [
    "# Your first Recurrent Neural Network (RNN)"
   ]
  },
  {
   "cell_type": "markdown",
   "metadata": {},
   "source": [
    "🙌 Welcome to RNN! After using CNN in the previous lesson to deal with images (spatial data), you are going to deal with time-related data (***temporal data***).\n",
    "\n",
    "🎯 Goals of this warm-up challenge:\n",
    "1. Understand what temporal data is\n",
    "2. Build your first Recurrent Neural Network\n",
    "\n"
   ]
  },
  {
   "cell_type": "markdown",
   "metadata": {},
   "source": [
    "## (1) The dataset"
   ]
  },
  {
   "cell_type": "markdown",
   "metadata": {},
   "source": [
    "🔢 Imagine that we have access to some data about employees in a company."
   ]
  },
  {
   "cell_type": "code",
   "execution_count": 1,
   "metadata": {},
   "outputs": [],
   "source": [
    "import numpy as np\n",
    "\n",
    "X = np.load('X.npy')\n",
    "y = np.load('y.npy')"
   ]
  },
  {
   "cell_type": "code",
   "execution_count": 2,
   "metadata": {},
   "outputs": [
    {
     "data": {
      "text/plain": [
       "((25000, 10, 3), (25000,))"
      ]
     },
     "execution_count": 2,
     "metadata": {},
     "output_type": "execute_result"
    }
   ],
   "source": [
    "X.shape, y.shape"
   ]
  },
  {
   "cell_type": "markdown",
   "metadata": {},
   "source": [
    "☝️ The dataset describes the evolution of the **employment status of 25 000 employees, year after year**: each sequence corresponds to 10 consecutive years, where each year describes a job situation, comprising  3 components\n",
    "- the salary,\n",
    "- the number of people under someone's responsability,\n",
    "- the size of the company. \n",
    "\n",
    "🕵🏻 To understand the dataset a bit better, let's show the data of the first employee."
   ]
  },
  {
   "cell_type": "code",
   "execution_count": 3,
   "metadata": {},
   "outputs": [
    {
     "data": {
      "text/html": [
       "<div>\n",
       "<style scoped>\n",
       "    .dataframe tbody tr th:only-of-type {\n",
       "        vertical-align: middle;\n",
       "    }\n",
       "\n",
       "    .dataframe tbody tr th {\n",
       "        vertical-align: top;\n",
       "    }\n",
       "\n",
       "    .dataframe thead th {\n",
       "        text-align: right;\n",
       "    }\n",
       "</style>\n",
       "<table border=\"1\" class=\"dataframe\">\n",
       "  <thead>\n",
       "    <tr style=\"text-align: right;\">\n",
       "      <th></th>\n",
       "      <th>salary</th>\n",
       "      <th>responsability</th>\n",
       "      <th>company_size</th>\n",
       "    </tr>\n",
       "  </thead>\n",
       "  <tbody>\n",
       "    <tr>\n",
       "      <th>0</th>\n",
       "      <td>0.80</td>\n",
       "      <td>10.73</td>\n",
       "      <td>102.0</td>\n",
       "    </tr>\n",
       "    <tr>\n",
       "      <th>1</th>\n",
       "      <td>0.50</td>\n",
       "      <td>10.73</td>\n",
       "      <td>102.0</td>\n",
       "    </tr>\n",
       "    <tr>\n",
       "      <th>2</th>\n",
       "      <td>0.60</td>\n",
       "      <td>10.73</td>\n",
       "      <td>102.0</td>\n",
       "    </tr>\n",
       "    <tr>\n",
       "      <th>3</th>\n",
       "      <td>0.71</td>\n",
       "      <td>10.73</td>\n",
       "      <td>130.0</td>\n",
       "    </tr>\n",
       "    <tr>\n",
       "      <th>4</th>\n",
       "      <td>0.94</td>\n",
       "      <td>10.73</td>\n",
       "      <td>130.0</td>\n",
       "    </tr>\n",
       "    <tr>\n",
       "      <th>5</th>\n",
       "      <td>1.05</td>\n",
       "      <td>10.73</td>\n",
       "      <td>130.0</td>\n",
       "    </tr>\n",
       "    <tr>\n",
       "      <th>6</th>\n",
       "      <td>1.12</td>\n",
       "      <td>32.00</td>\n",
       "      <td>108.0</td>\n",
       "    </tr>\n",
       "    <tr>\n",
       "      <th>7</th>\n",
       "      <td>4.87</td>\n",
       "      <td>32.00</td>\n",
       "      <td>108.0</td>\n",
       "    </tr>\n",
       "    <tr>\n",
       "      <th>8</th>\n",
       "      <td>4.97</td>\n",
       "      <td>33.00</td>\n",
       "      <td>108.0</td>\n",
       "    </tr>\n",
       "    <tr>\n",
       "      <th>9</th>\n",
       "      <td>5.20</td>\n",
       "      <td>39.00</td>\n",
       "      <td>108.0</td>\n",
       "    </tr>\n",
       "  </tbody>\n",
       "</table>\n",
       "</div>"
      ],
      "text/plain": [
       "   salary  responsability  company_size\n",
       "0    0.80           10.73         102.0\n",
       "1    0.50           10.73         102.0\n",
       "2    0.60           10.73         102.0\n",
       "3    0.71           10.73         130.0\n",
       "4    0.94           10.73         130.0\n",
       "5    1.05           10.73         130.0\n",
       "6    1.12           32.00         108.0\n",
       "7    4.87           32.00         108.0\n",
       "8    4.97           33.00         108.0\n",
       "9    5.20           39.00         108.0"
      ]
     },
     "execution_count": 3,
     "metadata": {},
     "output_type": "execute_result"
    }
   ],
   "source": [
    "import pandas as pd\n",
    "\n",
    "employee_0 = pd.DataFrame(X[0],\n",
    "                          columns=['salary',\n",
    "                                   'responsability',\n",
    "                                   'company_size'])\n",
    "round(employee_0,2)"
   ]
  },
  {
   "cell_type": "markdown",
   "metadata": {},
   "source": [
    "🎯 The goal in this challenge is to predict the montly salary on the 11th year for each of these 25000 employees, based on the past observations."
   ]
  },
  {
   "cell_type": "code",
   "execution_count": 4,
   "metadata": {},
   "outputs": [
    {
     "data": {
      "text/plain": [
       "6.499"
      ]
     },
     "execution_count": 4,
     "metadata": {},
     "output_type": "execute_result"
    }
   ],
   "source": [
    "# For example, the first employee earns 6.499 k USD per month\n",
    "# during the 11th year at the company\n",
    "y[0]"
   ]
  },
  {
   "cell_type": "code",
   "execution_count": 5,
   "metadata": {},
   "outputs": [
    {
     "data": {
      "text/plain": [
       "array([6.499, 6.818, 3.019, ..., 2.056, 4.345, 2.421])"
      ]
     },
     "execution_count": 5,
     "metadata": {},
     "output_type": "execute_result"
    }
   ],
   "source": [
    "y"
   ]
  },
  {
   "cell_type": "markdown",
   "metadata": {},
   "source": [
    "📈 To help you get a better understanding about the evolution of the salaries, the number of people under their responsbility and the company size over the years, you can run the cell down below. Do you visually detect some correlations between these three variables ?"
   ]
  },
  {
   "cell_type": "code",
   "execution_count": 6,
   "metadata": {},
   "outputs": [
    {
     "data": {
      "image/png": "[encoded data removed]",
      "text/plain": [
       "<Figure size 432x288 with 1 Axes>"
      ]
     },
     "metadata": {
      "needs_background": "light"
     },
     "output_type": "display_data"
    },
    {
     "data": {
      "image/png": "[encoded data removed]",
      "text/plain": [
       "<Figure size 432x288 with 1 Axes>"
      ]
     },
     "metadata": {
      "needs_background": "light"
     },
     "output_type": "display_data"
    },
    {
     "data": {
      "image/png": "[encoded data removed]",
      "text/plain": [
       "<Figure size 432x288 with 1 Axes>"
      ]
     },
     "metadata": {
      "needs_background": "light"
     },
     "output_type": "display_data"
    }
   ],
   "source": [
    "import matplotlib.pyplot as plt\n",
    "%matplotlib inline\n",
    "\n",
    "number_of_employees = len(X)\n",
    "number_of_randomly_selected_employees = 5\n",
    "\n",
    "random_selection = np.random.randint(0, \n",
    "                                     number_of_employees,\n",
    "                                     number_of_randomly_selected_employees)\n",
    "\n",
    "# As the employees are selected randomly, feel free to re-run this cell a few times !\n",
    "\n",
    "plt.title('Salary')\n",
    "\n",
    "for r in random_selection:\n",
    "    plt.plot(X[r, :, 0],label=f\"Employee number {r}\",linestyle=\":\",marker=\"o\")\n",
    "    plt.legend(loc='upper left')\n",
    "plt.show()\n",
    "\n",
    "plt.title('Person under responsibility')\n",
    "for r in random_selection:\n",
    "    plt.plot(X[r, :, 1],label=f\"Employee number {r}\",linestyle=\":\",marker=\"o\")\n",
    "    plt.legend(loc='upper left')\n",
    "plt.show()\n",
    "\n",
    "plt.title('Company sizes')\n",
    "for r in random_selection:\n",
    "    plt.plot(X[r, :, 2],label=f\"Employee number {r}\",linestyle=\":\",marker=\"o\")\n",
    "    plt.legend(loc='upper left')\n",
    "plt.show()"
   ]
  },
  {
   "cell_type": "markdown",
   "metadata": {},
   "source": [
    "❓ **Question** ❓ Plot the distribution of:\n",
    "* all the salaries during the 10th yaer, \n",
    "* people under someone's responsibility, \n",
    "* and the company sizes \n",
    "\n",
    "to get a better understanding of the variability of observations"
   ]
  },
  {
   "cell_type": "code",
   "execution_count": 7,
   "metadata": {
    "tags": [
     "challengify"
    ]
   },
   "outputs": [
    {
     "data": {
      "text/plain": [
       "(array([2.2283e+04, 2.0670e+03, 4.5100e+02, 1.2200e+02, 4.6000e+01,\n",
       "        1.7000e+01, 7.0000e+00, 3.0000e+00, 2.0000e+00, 1.0000e+00]),\n",
       " array([  500. ,  9799.9, 19099.8, 28399.7, 37699.6, 46999.5, 56299.4,\n",
       "        65599.3, 74899.2, 84199.1, 93499. ], dtype=float32),\n",
       " <BarContainer object of 10 artists>)"
      ]
     },
     "execution_count": 7,
     "metadata": {},
     "output_type": "execute_result"
    },
    {
     "data": {
      "image/png": "[encoded data removed]",
      "text/plain": [
       "<Figure size 432x288 with 1 Axes>"
      ]
     },
     "metadata": {
      "needs_background": "light"
     },
     "output_type": "display_data"
    }
   ],
   "source": [
    "X[0][9][0],X[1][9][0] \n",
    "Salaries=[X[i][9][0] for i in range(24999)]\n",
    "Salaries=np.array(Salaries)\n",
    "Salaries=Salaries*1000\n",
    "\n",
    "plt.hist(Salaries)"
   ]
  },
  {
   "cell_type": "markdown",
   "metadata": {},
   "source": [
    "❓ **Question** ❓  Split your dataset between a train and test set (80/20)"
   ]
  },
  {
   "cell_type": "code",
   "execution_count": 8,
   "metadata": {
    "tags": [
     "challengify"
    ]
   },
   "outputs": [],
   "source": [
    "from sklearn.model_selection import train_test_split\n",
    "X_train, X_test, y_train, y_test = train_test_split(X,y, test_size=0.2)"
   ]
  },
  {
   "cell_type": "markdown",
   "metadata": {},
   "source": [
    "## (2) A Simple RNN"
   ]
  },
  {
   "cell_type": "markdown",
   "metadata": {},
   "source": [
    "🤗 Now that you are familiar with this company's dataset, you will create your first Recurrent Neural Network. Let's start with a simple architecture."
   ]
  },
  {
   "cell_type": "markdown",
   "metadata": {},
   "source": [
    "❓ **Question** ❓ Write a model that has: \n",
    "- a ***Normalization*** layer adapted on the training set\n",
    "- a ***SimpleRNN*** layer with 20 *units* (don't forget that `tanh` is better suited as an activation function for a Recurrent Layer)\n",
    "- a ***Dense*** layer with 10 neurons\n",
    "- a ***Dense*** layer specific to your task (= to ***predict*** a salary)\n",
    "\n",
    "👩🏻‍🏫 <u>Remember</u>: You don't need to specify an `input_shape`: as soon as your Normalizer has been adapted to your train set, it has memorized the input shape!"
   ]
  },
  {
   "cell_type": "code",
   "execution_count": 9,
   "metadata": {},
   "outputs": [
    {
     "name": "stderr",
     "output_type": "stream",
     "text": [
      "2022-05-26 12:12:36.901469: W tensorflow/stream_executor/platform/default/dso_loader.cc:64] Could not load dynamic library 'libcudart.so.11.0'; dlerror: libcudart.so.11.0: cannot open shared object file: No such file or directory\n",
      "2022-05-26 12:12:36.901643: I tensorflow/stream_executor/cuda/cudart_stub.cc:29] Ignore above cudart dlerror if you do not have a GPU set up on your machine.\n",
      "2022-05-26 12:12:41.983081: W tensorflow/stream_executor/platform/default/dso_loader.cc:64] Could not load dynamic library 'libcuda.so.1'; dlerror: libcuda.so.1: cannot open shared object file: No such file or directory\n",
      "2022-05-26 12:12:41.983317: W tensorflow/stream_executor/cuda/cuda_driver.cc:269] failed call to cuInit: UNKNOWN ERROR (303)\n",
      "2022-05-26 12:12:41.983484: I tensorflow/stream_executor/cuda/cuda_diagnostics.cc:156] kernel driver does not appear to be running on this host (DESKTOP-3PI3NFG): /proc/driver/nvidia/version does not exist\n",
      "2022-05-26 12:12:41.984144: I tensorflow/core/platform/cpu_feature_guard.cc:151] This TensorFlow binary is optimized with oneAPI Deep Neural Network Library (oneDNN) to use the following CPU instructions in performance-critical operations:  AVX2 AVX512F FMA\n",
      "To enable them in other operations, rebuild TensorFlow with the appropriate compiler flags.\n"
     ]
    }
   ],
   "source": [
    "from tensorflow.keras.layers import Normalization\n",
    "from tensorflow.keras.models import Sequential\n",
    "from tensorflow.keras.layers import Dense, SimpleRNN, Flatten\n",
    "from tensorflow.keras import layers\n"
   ]
  },
  {
   "cell_type": "code",
   "execution_count": 12,
   "metadata": {},
   "outputs": [
    {
     "data": {
      "text/plain": [
       "<keras.layers.preprocessing.normalization.Normalization at 0x7f04604ead90>"
      ]
     },
     "execution_count": 12,
     "metadata": {},
     "output_type": "execute_result"
    }
   ],
   "source": [
    "layer = Normalization()\n",
    "layer.adapt(X_train)\n",
    "layer"
   ]
  },
  {
   "cell_type": "code",
   "execution_count": 13,
   "metadata": {
    "tags": [
     "challengify"
    ]
   },
   "outputs": [],
   "source": [
    "model = Sequential()\n",
    "\n",
    "model.add(layer)\n",
    "model.add(layers.SimpleRNN(20, activation='tanh'))\n",
    "model.add(layers.Dense(10, activation='relu'))\n",
    "model.add(layers.Dense(1, activation='linear'))"
   ]
  },
  {
   "cell_type": "markdown",
   "metadata": {},
   "source": [
    "❓ **Question**: How many trainable does your RNN have ❓"
   ]
  },
  {
   "cell_type": "code",
   "execution_count": 89,
   "metadata": {
    "tags": [
     "challengify"
    ]
   },
   "outputs": [],
   "source": [
    "# YOUR CODE HERE"
   ]
  },
  {
   "cell_type": "markdown",
   "metadata": {},
   "source": [
    "❓ **Question** ❓ Try to recompute the number of parameters manually.\n"
   ]
  },
  {
   "cell_type": "markdown",
   "metadata": {
    "tags": [
     "challengify"
    ]
   },
   "source": [
    "> YOUR ANSWER HERE"
   ]
  },
  {
   "cell_type": "markdown",
   "metadata": {},
   "source": [
    "❓ **Question** ❓ Compile your model. For RNN, we recommend you to use the ***rmsprop*** optimizer (instead of *adam*)."
   ]
  },
  {
   "cell_type": "code",
   "execution_count": 90,
   "metadata": {
    "tags": [
     "challengify"
    ]
   },
   "outputs": [],
   "source": [
    "model.compile(loss='mse', optimizer='rmsprop')"
   ]
  },
  {
   "cell_type": "markdown",
   "metadata": {},
   "source": [
    "❓ **Questions** ❓ \n",
    "\n",
    "* Run your model on your training dataset:\n",
    "    * use a Validation Split of 20%\n",
    "    * and an Early Stopping Criterion with patience $= 5 $\n",
    "* Evaluate your performance on the test set"
   ]
  },
  {
   "cell_type": "code",
   "execution_count": 91,
   "metadata": {
    "tags": [
     "challengify"
    ]
   },
   "outputs": [
    {
     "name": "stdout",
     "output_type": "stream",
     "text": [
      "Epoch 1/5\n",
      "500/500 [==============================] - 5s 7ms/step - loss: 28.8071 - val_loss: 17.3426\n",
      "Epoch 2/5\n",
      "500/500 [==============================] - 3s 7ms/step - loss: 11.7719 - val_loss: 8.7776\n",
      "Epoch 3/5\n",
      "500/500 [==============================] - 3s 6ms/step - loss: 6.9028 - val_loss: 4.7080\n",
      "Epoch 4/5\n",
      "500/500 [==============================] - 3s 7ms/step - loss: 4.4288 - val_loss: 3.5625\n",
      "Epoch 5/5\n",
      "500/500 [==============================] - 3s 6ms/step - loss: 3.6858 - val_loss: 2.8742\n"
     ]
    }
   ],
   "source": [
    "from tensorflow.keras.callbacks import EarlyStopping\n",
    "es=EarlyStopping(patience=5, restore_best_weights=True)\n",
    "history = model.fit(X_train, y_train, validation_split=0.2, epochs=5, batch_size=32, callbacks=[es])"
   ]
  },
  {
   "cell_type": "code",
   "execution_count": 97,
   "metadata": {},
   "outputs": [
    {
     "name": "stdout",
     "output_type": "stream",
     "text": [
      "157/157 [==============================] - 1s 5ms/step - loss: 2.9739\n"
     ]
    },
    {
     "data": {
      "text/plain": [
       "2.9738516807556152"
      ]
     },
     "execution_count": 97,
     "metadata": {},
     "output_type": "execute_result"
    }
   ],
   "source": [
    "model.evaluate(X_test, y_test)"
   ]
  },
  {
   "cell_type": "markdown",
   "metadata": {
    "heading_collapsed": true
   },
   "source": [
    "## (3) Baseline comparison"
   ]
  },
  {
   "cell_type": "markdown",
   "metadata": {
    "hidden": true
   },
   "source": [
    "❗️**Important Reminder**❗️ : Always remember to compare your Deep Learning models, and more generally any Machine Learning model, to a baseline. \n",
    "\n",
    "🧑🏻‍🏫 Remember that our goal is to predict the salary of the employees for the 11th year. It is a ***Regression Task***. What baseline could we build ? \n",
    "1. In the case of a traditional regression model, a baseline prediction for `y_test` is  to **predict the average of `y_train`**... but this option could be irrelevant for time-related series. Theoretically, someone's salary is supposed to increase of the year s!\n",
    "2. An alternative baseline prediction for a regression task is to **predict the last seen value**"
   ]
  },
  {
   "cell_type": "markdown",
   "metadata": {
    "hidden": true
   },
   "source": [
    "❓ **Questions** ❓ \n",
    "* Compute the Mean Absolute Error of a baseline model that would predict that the salary remains constant between the 10-th and 11-th year\n",
    "* Compare this baseline model to your RNN"
   ]
  },
  {
   "cell_type": "code",
   "execution_count": 92,
   "metadata": {
    "hidden": true,
    "tags": [
     "challengify"
    ]
   },
   "outputs": [],
   "source": [
    "# YOUR CODE HERE"
   ]
  },
  {
   "cell_type": "markdown",
   "metadata": {
    "hidden": true
   },
   "source": [
    "😁 You should notice that your RNN performs a bit better than a baseline model."
   ]
  },
  {
   "cell_type": "markdown",
   "metadata": {},
   "source": [
    "## (4) LSTM: Long-Short Term Memory"
   ]
  },
  {
   "cell_type": "markdown",
   "metadata": {},
   "source": [
    "❓ **Questions** ❓ \n",
    "\n",
    "* Write the exact same model, but with a `LSTM` instead of a `SimpleRNN`\n",
    "* Evaluate your performance on the test set"
   ]
  },
  {
   "cell_type": "code",
   "execution_count": 94,
   "metadata": {
    "tags": [
     "challengify"
    ]
   },
   "outputs": [
    {
     "name": "stdout",
     "output_type": "stream",
     "text": [
      "Epoch 1/5\n",
      "500/500 [==============================] - 9s 11ms/step - loss: 17.2470 - val_loss: 6.6638\n",
      "Epoch 2/5\n",
      "500/500 [==============================] - 4s 8ms/step - loss: 4.9378 - val_loss: 3.4335\n",
      "Epoch 3/5\n",
      "500/500 [==============================] - 5s 9ms/step - loss: 3.3721 - val_loss: 2.3978\n",
      "Epoch 4/5\n",
      "500/500 [==============================] - 5s 9ms/step - loss: 2.6674 - val_loss: 1.6443\n",
      "Epoch 5/5\n",
      "500/500 [==============================] - 5s 10ms/step - loss: 2.2417 - val_loss: 1.5155\n"
     ]
    }
   ],
   "source": [
    "model2 = Sequential()\n",
    "\n",
    "#model.add(layer)\n",
    "model2.add(layers.LSTM(20, activation='tanh'))\n",
    "model2.add(layers.Dense(10, activation='relu'))\n",
    "model2.add(layers.Dense(1, activation='linear'))\n",
    "\n",
    "model2.compile(loss='mse', optimizer='rmsprop')\n",
    "history2 = model2.fit(X_train,y_train, validation_split=0.2, epochs=5, batch_size=32, callbacks=[es])"
   ]
  },
  {
   "cell_type": "code",
   "execution_count": 96,
   "metadata": {},
   "outputs": [
    {
     "name": "stdout",
     "output_type": "stream",
     "text": [
      "157/157 [==============================] - 2s 7ms/step - loss: 1.5927\n"
     ]
    },
    {
     "data": {
      "text/plain": [
       "1.5926737785339355"
      ]
     },
     "execution_count": 96,
     "metadata": {},
     "output_type": "execute_result"
    }
   ],
   "source": [
    "model2.evaluate(X_test,y_test)"
   ]
  },
  {
   "cell_type": "markdown",
   "metadata": {},
   "source": [
    "💪 The LSTM should perform a bit better than the SimpleRNN with a lower MAE."
   ]
  },
  {
   "cell_type": "markdown",
   "metadata": {},
   "source": [
    "🏁 Congratulations ! You know how to run a RNN on sequential data.\n",
    " \n",
    "\n",
    "💾 Do not forget to git add/commit/push your notebook...\n",
    "\n",
    "🚀 ... and move to the next challenge !\n",
    "\n",
    "---\n",
    "\n",
    "<u>Note</u>: The sequences you worked with are totally fake. In case, you need to train and reproduce similar data, you can find below the functions that have been used to simulate such a dataset."
   ]
  },
  {
   "cell_type": "markdown",
   "metadata": {
    "heading_collapsed": true
   },
   "source": [
    "## (Utils)"
   ]
  },
  {
   "cell_type": "code",
   "execution_count": null,
   "metadata": {
    "hidden": true
   },
   "outputs": [],
   "source": [
    "def create_sequences(number):\n",
    "    X, y = [], []\n",
    "    \n",
    "    for i in range(number):\n",
    "        x_i, y_i = create_individual_sequence(10)\n",
    "        X.append(x_i)\n",
    "        y.append(y_i)\n",
    "        \n",
    "    return np.array(X), np.array(y)\n",
    "            \n",
    "def create_individual_sequence(length):\n",
    "    company_sizes = []\n",
    "    nb_persons = []\n",
    "    salaries = []\n",
    "    \n",
    "    \n",
    "    # Education level\n",
    "    educ_level = [max(0, int(np.random.normal(10, 2)))]*length\n",
    "    \n",
    "    # Company size\n",
    "    current_size = int(1 + np.random.beta(.4, 4)*500)\n",
    "    for i in range(length):\n",
    "        if not np.random.randint(4): # Change 1 out of 3 possibilities \n",
    "            current_size = int(max(1, np.random.normal(current_size, 50)))\n",
    "        company_sizes.append(current_size)\n",
    "    \n",
    "    # Number of persons\n",
    "    nb_iter = np.random.beta(.15, 4)*300\n",
    "    for i in range(length):\n",
    "        if not np.random.randint(2): # Change 1 out of 2 possibilities\n",
    "            R_1 = np.random.beta(0.5, 8)*3\n",
    "            nb_iter = nb_iter + max(-2, R_1*company_sizes[i] + np.random.randint(-2, 2))\n",
    "            nb_iter = max(0, nb_iter)\n",
    "            nb_iter = int(min(company_sizes[i]-1, nb_iter))\n",
    "        nb_persons.append(nb_iter)\n",
    "        \n",
    "    \n",
    "    # Salary\n",
    "    salary_iter = max(800, int(np.random.normal(1200, 300)+ 0.05*company_sizes[0] +  np.random.normal(40, 400)))\n",
    "    salaries.append(salary_iter)\n",
    "    for i in range(1, length + 1):\n",
    "        R_1 = np.random.normal(100, 50)\n",
    "        change_person = nb_persons[i-1] - nb_persons[i-2]\n",
    "        change_company = max(0, company_sizes[i-1] - company_sizes[i-2])\n",
    "        salary_iter = salary_iter + 0.05*change_company + change_person*R_1 + np.random.normal(100, 50)\n",
    "        salary_iter = max(int(salary_iter), 500)\n",
    "        \n",
    "        salaries.append(salary_iter)\n",
    "\n",
    "    y = salaries[-1]/1000\n",
    "    salaries = [_/1000 for _ in salaries[:-1]]\n",
    "    \n",
    "    return np.array([salaries, nb_persons, company_sizes]).T, y"
   ]
  },
  {
   "cell_type": "code",
   "execution_count": null,
   "metadata": {
    "hidden": true
   },
   "outputs": [],
   "source": [
    "#X, y = create_sequences(25000)\n",
    "\n",
    "#np.save('X', X.astype(np.float32))\n",
    "#np.save('y', y)"
   ]
  }
 ],
 "metadata": {
  "kernelspec": {
   "display_name": "Python 3 (ipykernel)",
   "language": "python",
   "name": "python3"
  },
  "language_info": {
   "codemirror_mode": {
    "name": "ipython",
    "version": 3
   },
   "file_extension": ".py",
   "mimetype": "text/x-python",
   "name": "python",
   "nbconvert_exporter": "python",
   "pygments_lexer": "ipython3",
   "version": "3.8.12"
  },
  "toc": {
   "base_numbering": 1,
   "nav_menu": {},
   "number_sections": true,
   "sideBar": true,
   "skip_h1_title": false,
   "title_cell": "Table of Contents",
   "title_sidebar": "Contents",
   "toc_cell": false,
   "toc_position": {},
   "toc_section_display": true,
   "toc_window_display": false
  }
 },
 "nbformat": 4,
 "nbformat_minor": 2
}
